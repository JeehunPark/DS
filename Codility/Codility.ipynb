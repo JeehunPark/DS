{
 "cells": [
  {
   "cell_type": "markdown",
   "metadata": {},
   "source": [
    "## Codility"
   ]
  },
  {
   "cell_type": "markdown",
   "metadata": {
    "collapsed": true
   },
   "source": [
    "Lesson2_Arrays_OddOccurrencesInArray"
   ]
  },
  {
   "cell_type": "code",
   "execution_count": null,
   "metadata": {
    "collapsed": true
   },
   "outputs": [],
   "source": [
    "def solution(A):\n",
    "    A.sort()\n",
    "    \n",
    "    for j in [i for i in range(len(A)) if i % 2 == 0]:\n",
    "        if not A[j]==A[j+1]:\n",
    "            return A[j]"
   ]
  },
  {
   "cell_type": "markdown",
   "metadata": {},
   "source": [
    "Lesson2_Arrays_CyclicRotation"
   ]
  },
  {
   "cell_type": "code",
   "execution_count": 105,
   "metadata": {
    "collapsed": true
   },
   "outputs": [],
   "source": [
    "def solution(A, K):\n",
    "    if K == 0 or len(A) == 0:\n",
    "        return A\n",
    "    \n",
    "    B = K%len(A)\n",
    "    if B == 0:\n",
    "        return A\n",
    "    else:\n",
    "        return A[len(A)-B:] + A[:len(A)-B]"
   ]
  },
  {
   "cell_type": "markdown",
   "metadata": {},
   "source": [
    "Lesson3_Time Complexity_TapeEquilibrium"
   ]
  },
  {
   "cell_type": "code",
   "execution_count": null,
   "metadata": {
    "collapsed": true
   },
   "outputs": [],
   "source": [
    "def solution(A):\n",
    "    a = sum(A)\n",
    "    b = 0\n",
    "    c = []\n",
    "    for i in A[:-1]:\n",
    "        b += i*2\n",
    "        c.append(abs(a - b))\n",
    "    \n",
    "    return min(c)"
   ]
  },
  {
   "cell_type": "markdown",
   "metadata": {},
   "source": [
    "Lesson3_Time Complexity_FrogJmp"
   ]
  },
  {
   "cell_type": "code",
   "execution_count": null,
   "metadata": {
    "collapsed": true
   },
   "outputs": [],
   "source": [
    "def solution(X, Y, D):\n",
    "    if (Y - X) % D == 0:\n",
    "        return (Y - X) // D\n",
    "    else:\n",
    "        return (Y - X) // D + 1"
   ]
  },
  {
   "cell_type": "markdown",
   "metadata": {
    "collapsed": true
   },
   "source": [
    "Lesson3_Time Complexity_PermMissingElem"
   ]
  },
  {
   "cell_type": "code",
   "execution_count": 22,
   "metadata": {
    "collapsed": true
   },
   "outputs": [],
   "source": [
    "def solution(A):\n",
    "    return sum(range(1, len(A)+2)) - sum(A)"
   ]
  },
  {
   "cell_type": "markdown",
   "metadata": {},
   "source": [
    "Lesson4_Counting Elements_FrogRiverOne"
   ]
  },
  {
   "cell_type": "code",
   "execution_count": null,
   "metadata": {
    "collapsed": true
   },
   "outputs": [],
   "source": [
    "def solution(X, A):\n",
    "    if len(range(1, X+1)) > len(A):\n",
    "        return -1\n",
    "    \n",
    "    count = set(range(1, X+1))\n",
    "    \n",
    "    for i, j in enumerate(A):\n",
    "        if j in count:\n",
    "            count.remove(j)\n",
    "            if not count:\n",
    "                return i\n",
    "\n",
    "    return -1"
   ]
  },
  {
   "cell_type": "markdown",
   "metadata": {},
   "source": [
    "Lesson4_Counting Elements_MissingInteger"
   ]
  },
  {
   "cell_type": "code",
   "execution_count": 106,
   "metadata": {
    "collapsed": true
   },
   "outputs": [],
   "source": [
    "def solution(A):\n",
    "    if max(A) < 0:\n",
    "        return 1\n",
    "    else:\n",
    "        a = set(A)\n",
    "        for i in range(1, len(A) +1):\n",
    "            if i not in a:\n",
    "                return i\n",
    "        return max(a) + 1"
   ]
  },
  {
   "cell_type": "markdown",
   "metadata": {
    "collapsed": true
   },
   "source": [
    "Lesson4_Counting Elements_MaxCounters"
   ]
  },
  {
   "cell_type": "code",
   "execution_count": 31,
   "metadata": {
    "collapsed": true
   },
   "outputs": [],
   "source": [
    "def solution(N, A):\n",
    "    base = [0] * N\n",
    "    for i in A:\n",
    "        if i == N+1:\n",
    "            base = [max(base)] * N\n",
    "        else:\n",
    "            base[i-1] += 1\n",
    "\n",
    "    return base"
   ]
  },
  {
   "cell_type": "code",
   "execution_count": 119,
   "metadata": {
    "collapsed": true
   },
   "outputs": [],
   "source": [
    "def solution(N, A):\n",
    "    base = [0] * N\n",
    "    a = 0\n",
    "    for i in A:\n",
    "        if i == N+1:\n",
    "            a = a + max(base)\n",
    "            base = [0] * N\n",
    "        else:\n",
    "            base[i-1] += 1\n",
    "\n",
    "    return list(map(lambda x: x+a, base))"
   ]
  },
  {
   "cell_type": "code",
   "execution_count": 137,
   "metadata": {
    "collapsed": true
   },
   "outputs": [],
   "source": [
    "def solution(N, A):\n",
    "    a = {}\n",
    "    b = 0\n",
    "    for i in range(1, N+1):\n",
    "        a[i] = 0\n",
    "    c = a.copy()\n",
    "    for j in A:\n",
    "        if j == N + 1:\n",
    "            b = max(a.values())\n",
    "            a = c.copy()\n",
    "        else:\n",
    "            a[j] += 1\n",
    "\n",
    "    return list(a.values())"
   ]
  },
  {
   "cell_type": "code",
   "execution_count": 138,
   "metadata": {},
   "outputs": [
    {
     "data": {
      "text/plain": [
       "[0, 0, 0, 0, 0]"
      ]
     },
     "execution_count": 138,
     "metadata": {},
     "output_type": "execute_result"
    }
   ],
   "source": [
    "solution(5, a)"
   ]
  },
  {
   "cell_type": "code",
   "execution_count": 132,
   "metadata": {},
   "outputs": [
    {
     "data": {
      "text/plain": [
       "{1: 1, 3: 1, 4: 4, 6: 2}"
      ]
     },
     "execution_count": 132,
     "metadata": {},
     "output_type": "execute_result"
    }
   ],
   "source": [
    "aa"
   ]
  },
  {
   "cell_type": "code",
   "execution_count": 135,
   "metadata": {},
   "outputs": [],
   "source": [
    "bb = aa.copy()"
   ]
  },
  {
   "cell_type": "code",
   "execution_count": 136,
   "metadata": {},
   "outputs": [
    {
     "data": {
      "text/plain": [
       "{1: 1, 3: 1, 4: 4, 6: 2}"
      ]
     },
     "execution_count": 136,
     "metadata": {},
     "output_type": "execute_result"
    }
   ],
   "source": [
    "bb"
   ]
  },
  {
   "cell_type": "code",
   "execution_count": null,
   "metadata": {
    "collapsed": true
   },
   "outputs": [],
   "source": []
  }
 ],
 "metadata": {
  "kernelspec": {
   "display_name": "Python 3",
   "language": "python",
   "name": "python3"
  },
  "language_info": {
   "codemirror_mode": {
    "name": "ipython",
    "version": 3
   },
   "file_extension": ".py",
   "mimetype": "text/x-python",
   "name": "python",
   "nbconvert_exporter": "python",
   "pygments_lexer": "ipython3",
   "version": "3.6.3"
  }
 },
 "nbformat": 4,
 "nbformat_minor": 2
}
