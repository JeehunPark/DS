{
 "cells": [
  {
   "cell_type": "code",
   "execution_count": 2,
   "metadata": {},
   "outputs": [
    {
     "name": "stderr",
     "output_type": "stream",
     "text": [
      "C:\\Users\\SNB\\AppData\\Local\\Continuum\\anaconda3\\lib\\site-packages\\gensim\\utils.py:860: UserWarning: detected Windows; aliasing chunkize to chunkize_serial\n",
      "  warnings.warn(\"detected Windows; aliasing chunkize to chunkize_serial\")\n"
     ]
    }
   ],
   "source": [
    "import fasttext\n",
    "from gensim.models.wrappers.fasttext import FastText"
   ]
  },
  {
   "cell_type": "code",
   "execution_count": 40,
   "metadata": {},
   "outputs": [],
   "source": [
    "fasttext.cbow('./data/abstract.txt', './model/wiki_ko/wiki_ko.vec')\n",
    "model = FastText.load_fasttext_format('./model/wiki_ko/wiki_ko.vec')"
   ]
  },
  {
   "cell_type": "code",
   "execution_count": 44,
   "metadata": {},
   "outputs": [],
   "source": [
    "fasttext.cbow('./data/test.txt', './model/ft.vec')\n",
    "model = FastText.load_fasttext_format('./model/ft.vec')"
   ]
  },
  {
   "cell_type": "code",
   "execution_count": 55,
   "metadata": {},
   "outputs": [
    {
     "data": {
      "text/plain": [
       "[('마법', 0.23659977316856384),\n",
       " ('한다.', 0.23414334654808044),\n",
       " ('였다.', 0.22494597733020782),\n",
       " ('했다.', 0.22227278351783752),\n",
       " ('갔다.', 0.22001339495182037),\n",
       " ('같았다.', 0.20399580895900726),\n",
       " ('들어왔다.', 0.18997977674007416),\n",
       " ('하였다.', 0.1886877864599228),\n",
       " ('없다.', 0.18140816688537598),\n",
       " ('없었다.', 0.17048949003219604)]"
      ]
     },
     "execution_count": 55,
     "metadata": {},
     "output_type": "execute_result"
    }
   ],
   "source": [
    "model.most_similar(positive=['들어왔다'])"
   ]
  },
  {
   "cell_type": "code",
   "execution_count": 42,
   "metadata": {},
   "outputs": [
    {
     "data": {
      "text/plain": [
       "[('웹', -0.05565173551440239),\n",
       " ('본', -0.06712588667869568),\n",
       " ('두', -0.09501264244318008),\n",
       " ('데이터를', -0.1364378035068512),\n",
       " ('머신러닝', -0.48385089635849)]"
      ]
     },
     "execution_count": 42,
     "metadata": {},
     "output_type": "execute_result"
    }
   ],
   "source": [
    "model.most_similar(negative=['머신'])"
   ]
  },
  {
   "cell_type": "code",
   "execution_count": null,
   "metadata": {
    "collapsed": true
   },
   "outputs": [],
   "source": []
  }
 ],
 "metadata": {
  "kernelspec": {
   "display_name": "Python 3",
   "language": "python",
   "name": "python3"
  },
  "language_info": {
   "codemirror_mode": {
    "name": "ipython",
    "version": 3
   },
   "file_extension": ".py",
   "mimetype": "text/x-python",
   "name": "python",
   "nbconvert_exporter": "python",
   "pygments_lexer": "ipython3",
   "version": "3.6.3"
  }
 },
 "nbformat": 4,
 "nbformat_minor": 2
}
