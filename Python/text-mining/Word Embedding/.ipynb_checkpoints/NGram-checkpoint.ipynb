{
 "cells": [
  {
   "cell_type": "markdown",
   "metadata": {},
   "source": [
    "# NGram"
   ]
  },
  {
   "cell_type": "markdown",
   "metadata": {},
   "source": [
    "---"
   ]
  },
  {
   "cell_type": "code",
   "execution_count": 1,
   "metadata": {
    "collapsed": true
   },
   "outputs": [],
   "source": [
    "import ngram"
   ]
  },
  {
   "cell_type": "code",
   "execution_count": 39,
   "metadata": {},
   "outputs": [
    {
     "name": "stdout",
     "output_type": "stream",
     "text": [
      "['$머', '머신', '신러', '러닝', '닝$']\n",
      "['$런', '런닝', '닝머', '머신', '신$']\n",
      "['$러', '러닝', '닝$']\n",
      "[('머신러닝', 0.3333333333333333)]\n"
     ]
    }
   ],
   "source": [
    "ng = ngram.NGram(['머신러닝', '런닝머신','머신','데이터','빅데이타','서포트벡터머신', '인공지능'], N=2)\n",
    "print(list(ng.split('머신러닝')))\n",
    "print(list(ng.split('런닝머신')))\n",
    "print(list(ng.split('러닝')))\n",
    "\n",
    "result = ng.search('러닝', threshold=0.01)\n",
    "print(result)"
   ]
  },
  {
   "cell_type": "code",
   "execution_count": 29,
   "metadata": {},
   "outputs": [
    {
     "data": {
      "text/plain": [
       "['$$$$미', '$$$미신', '$$미신$', '$미신$$', '미신$$$', '신$$$$']"
      ]
     },
     "execution_count": 29,
     "metadata": {},
     "output_type": "execute_result"
    }
   ],
   "source": [
    "list(ng.split('미신'))\n"
   ]
  },
  {
   "cell_type": "code",
   "execution_count": null,
   "metadata": {
    "collapsed": true
   },
   "outputs": [],
   "source": []
  }
 ],
 "metadata": {
  "kernelspec": {
   "display_name": "Python 3",
   "language": "python",
   "name": "python3"
  },
  "language_info": {
   "codemirror_mode": {
    "name": "ipython",
    "version": 3
   },
   "file_extension": ".py",
   "mimetype": "text/x-python",
   "name": "python",
   "nbconvert_exporter": "python",
   "pygments_lexer": "ipython3",
   "version": "3.6.3"
  }
 },
 "nbformat": 4,
 "nbformat_minor": 2
}
