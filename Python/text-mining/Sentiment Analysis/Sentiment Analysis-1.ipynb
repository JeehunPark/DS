{
 "cells": [
  {
   "cell_type": "markdown",
   "metadata": {},
   "source": [
    "# Sentiment Analysis-1\n",
    "knowledge-based techniques"
   ]
  },
  {
   "cell_type": "code",
   "execution_count": 10,
   "metadata": {
    "collapsed": true
   },
   "outputs": [],
   "source": [
    "import nltk\n",
    "from nltk.corpus import sentiwordnet as swn\n",
    "import glob\n",
    "import numpy as np\n",
    "from nltk.stem.wordnet import WordNetLemmatizer\n",
    "import tqdm"
   ]
  },
  {
   "cell_type": "code",
   "execution_count": 299,
   "metadata": {
    "collapsed": true
   },
   "outputs": [],
   "source": [
    "#load dictionary\n",
    "\n",
    "#nltk.download('averaged_perceptron_tagger')\n",
    "#nltk.download(\"gutenberg\")\n",
    "#nltk.download('punkt')\n",
    "#nltk.download('reuters')\n",
    "#nltk.download(\"stopwords\")\n",
    "#nltk.download(\"webtext\")\n",
    "#nltk.download(\"wordnet\")"
   ]
  },
  {
   "cell_type": "code",
   "execution_count": 11,
   "metadata": {
    "collapsed": true
   },
   "outputs": [],
   "source": [
    "# load reviews(pos)\n",
    "review_pos = []\n",
    "for i in glob.glob(\"./data/aclImdb/train/pos/*.txt\"):\n",
    "    with open(i, \"r\", encoding=\"utf-8\") as f:\n",
    "        review_pos.append(f.read())\n",
    "\n",
    "print(\"review(positive) load, done\")"
   ]
  },
  {
   "cell_type": "code",
   "execution_count": 12,
   "metadata": {
    "collapsed": true
   },
   "outputs": [],
   "source": [
    "# load reviews(neg)\n",
    "review_neg = []\n",
    "for i in glob.glob(\"./data/aclImdb/train/neg/*.txt\"):\n",
    "    with open(i, \"r\", encoding=\"utf-8\") as f:\n",
    "        review_neg.append(f.read())\n",
    "\n",
    "print(\"review(neg) load, done\")"
   ]
  },
  {
   "cell_type": "code",
   "execution_count": 13,
   "metadata": {
    "collapsed": true
   },
   "outputs": [],
   "source": [
    "# tokenise reviews(positive)\n",
    "token_pos = []\n",
    "lemm = WordNetLemmatizer()\n",
    "for i in review_pos:\n",
    "    temp_1 = []\n",
    "    temp_2 = []\n",
    "    temp_1 = nltk.tokenize.word_tokenize(i.lower(), language=\"english\")\n",
    "    for j in temp_1:\n",
    "        if j.isalpha():\n",
    "            temp_2.append(lemm.lemmatize(j))\n",
    "\n",
    "    token_pos.append(temp_2)\n",
    "\n",
    "print(\"review(positive) tokenise, done\")"
   ]
  },
  {
   "cell_type": "code",
   "execution_count": 14,
   "metadata": {
    "collapsed": true
   },
   "outputs": [],
   "source": [
    "# tokenise reviews(negative)\n",
    "token_neg = []\n",
    "lemm = WordNetLemmatizer()\n",
    "for i in review_neg:\n",
    "    temp_1 = []\n",
    "    temp_2 = []\n",
    "    temp_1 = nltk.tokenize.word_tokenize(i.lower(), language=\"english\")\n",
    "    for j in temp_1:\n",
    "        if j.isalpha():\n",
    "            temp_2.append(lemm.lemmatize(j))\n",
    "\n",
    "    token_neg.append(temp_2)\n",
    "\n",
    "print(\"review(negative) tokenise, done\")"
   ]
  },
  {
   "cell_type": "code",
   "execution_count": 15,
   "metadata": {
    "collapsed": true
   },
   "outputs": [],
   "source": [
    "# score sentiment(positive)\n",
    "score_pos = []\n",
    "for i in range(len(token_pos)):\n",
    "    temp = []\n",
    "    for j in token_pos[i]:\n",
    "        temp.append(list(swn.senti_synsets(j)))\n",
    "\n",
    "    score_pos.append(temp)\n",
    "\n",
    "print(\"score sentiment(positive), done\")"
   ]
  },
  {
   "cell_type": "code",
   "execution_count": 16,
   "metadata": {
    "collapsed": true
   },
   "outputs": [],
   "source": [
    "# score sentiment(negative)\n",
    "score_neg = []\n",
    "for i in range(len(token_neg)):\n",
    "    temp = []\n",
    "    for j in token_neg[i]:\n",
    "        while list(swn.senti_synsets(j))\n",
    "        temp.append(list(swn.senti_synsets(j)))\n",
    "\n",
    "    score_neg.append(temp)\n",
    "\n",
    "print(\"score sentiment(negative), done\")"
   ]
  },
  {
   "cell_type": "code",
   "execution_count": 50,
   "metadata": {},
   "outputs": [
    {
     "name": "stdout",
     "output_type": "stream",
     "text": [
      "calculate score(positive), done\n"
     ]
    }
   ],
   "source": [
    "# calcutate score(positive)\n",
    "result_pos = []\n",
    "for review in score_pos:\n",
    "    temp_word = []\n",
    "    for token in review:\n",
    "        if token == []:\n",
    "            continue\n",
    "        temp_pos = 0\n",
    "        temp_neg = 0\n",
    "        for k in token:\n",
    "            temp_pos += k.pos_score()\n",
    "            temp_neg += k.neg_score()\n",
    "        if temp_pos==temp_neg:\n",
    "            continue\n",
    "        elif temp_pos>temp_neg:\n",
    "            temp_word.append(0)\n",
    "        else:\n",
    "            temp_word.append(1)            \n",
    "            \n",
    "    if temp_word.count(0)>temp_word.count(1):\n",
    "        result_pos.append(0)\n",
    "    else:\n",
    "        result_pos.append(1)\n",
    "\n",
    "print(\"calculate score(positive), done\")"
   ]
  },
  {
   "cell_type": "code",
   "execution_count": 51,
   "metadata": {},
   "outputs": [
    {
     "name": "stdout",
     "output_type": "stream",
     "text": [
      "calculate score(negative), done\n"
     ]
    }
   ],
   "source": [
    "# calcutate score(negative)\n",
    "result_neg = []\n",
    "for review in score_neg:\n",
    "    temp_word = []\n",
    "    for token in review:\n",
    "        if token == []:\n",
    "            continue\n",
    "        temp_pos = 0\n",
    "        temp_neg = 0\n",
    "        for k in token:\n",
    "            temp_pos += k.pos_score()\n",
    "            temp_neg += k.neg_score()\n",
    "        if temp_pos==temp_neg:\n",
    "            continue\n",
    "        elif temp_pos>temp_neg:\n",
    "            temp_word.append(0)\n",
    "        else:\n",
    "            temp_word.append(1)            \n",
    "            \n",
    "    if temp_word.count(0)>temp_word.count(1):\n",
    "        result_neg.append(0)\n",
    "    else:\n",
    "        result_neg.append(1)\n",
    "\n",
    "print(\"calculate score(negative), done\")"
   ]
  },
  {
   "cell_type": "markdown",
   "metadata": {},
   "source": [
    "---"
   ]
  },
  {
   "cell_type": "code",
   "execution_count": 52,
   "metadata": {},
   "outputs": [
    {
     "data": {
      "text/plain": [
       "(11209, 1291)"
      ]
     },
     "execution_count": 52,
     "metadata": {},
     "output_type": "execute_result"
    }
   ],
   "source": [
    "result_pos.count(0), result_pos.count(1)"
   ]
  },
  {
   "cell_type": "code",
   "execution_count": 53,
   "metadata": {},
   "outputs": [
    {
     "data": {
      "text/plain": [
       "(9453, 3047)"
      ]
     },
     "execution_count": 53,
     "metadata": {},
     "output_type": "execute_result"
    }
   ],
   "source": [
    "result_neg.count(0), result_neg.count(1)"
   ]
  },
  {
   "cell_type": "code",
   "execution_count": 54,
   "metadata": {},
   "outputs": [
    {
     "data": {
      "text/plain": [
       "([0, 0, 0, 1, 0, 0, 0, 0, 0, 0, 0, 0, 0, 0, 0, 1, 0, 0, 0, 0],\n",
       " [0, 1, 0, 1, 0, 1, 1, 0, 0, 0, 0, 1, 0, 1, 0, 0, 0, 0, 1, 1])"
      ]
     },
     "execution_count": 54,
     "metadata": {},
     "output_type": "execute_result"
    }
   ],
   "source": [
    "result_pos[:20], result_neg[:20]"
   ]
  },
  {
   "cell_type": "code",
   "execution_count": 55,
   "metadata": {},
   "outputs": [
    {
     "data": {
      "text/plain": [
       "0.57024"
      ]
     },
     "execution_count": 55,
     "metadata": {},
     "output_type": "execute_result"
    }
   ],
   "source": [
    "(result_pos.count(0)+result_neg.count(1))/(len(result_pos)+len(result_neg))"
   ]
  },
  {
   "cell_type": "markdown",
   "metadata": {},
   "source": [
    "---"
   ]
  },
  {
   "cell_type": "markdown",
   "metadata": {},
   "source": [
    "참고자료<br>\n",
    "http://www.lifebloom.biz/2017/07/29/python%EC%9D%84-%ED%99%9C%EC%9A%A9%ED%95%9C-%ED%85%8D%EC%8A%A4%ED%8A%B8-%EB%A7%88%EC%9D%B4%EB%8B%9D-8-%ED%85%8D%EC%8A%A4%ED%8A%B8-%EB%B6%84%EC%84%9D-%EA%B0%90%EC%84%B1-%EB%B6%84%EC%84%9Dsentiment-ana/"
   ]
  }
 ],
 "metadata": {
  "kernelspec": {
   "display_name": "Python 3",
   "language": "python",
   "name": "python3"
  },
  "language_info": {
   "codemirror_mode": {
    "name": "ipython",
    "version": 3
   },
   "file_extension": ".py",
   "mimetype": "text/x-python",
   "name": "python",
   "nbconvert_exporter": "python",
   "pygments_lexer": "ipython3",
   "version": "3.6.3"
  }
 },
 "nbformat": 4,
 "nbformat_minor": 2
}
