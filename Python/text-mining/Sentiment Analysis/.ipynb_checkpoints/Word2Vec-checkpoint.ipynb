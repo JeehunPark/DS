{
 "cells": [
  {
   "cell_type": "markdown",
   "metadata": {},
   "source": [
    "# Word2Vec\n",
    "Statistical methods - Word2Vec"
   ]
  },
  {
   "cell_type": "code",
   "execution_count": 1,
   "metadata": {},
   "outputs": [
    {
     "name": "stderr",
     "output_type": "stream",
     "text": [
      "C:\\Users\\SNB\\AppData\\Local\\Continuum\\anaconda3\\lib\\site-packages\\gensim\\utils.py:860: UserWarning: detected Windows; aliasing chunkize to chunkize_serial\n",
      "  warnings.warn(\"detected Windows; aliasing chunkize to chunkize_serial\")\n"
     ]
    }
   ],
   "source": [
    "from nltk.corpus import stopwords\n",
    "from nltk import word_tokenize\n",
    "from gensim.models.word2vec import Word2Vec\n",
    "from nltk.stem.wordnet import WordNetLemmatizer\n",
    "import nltk\n",
    "import glob"
   ]
  },
  {
   "cell_type": "code",
   "execution_count": 2,
   "metadata": {
    "collapsed": true
   },
   "outputs": [],
   "source": [
    "# load all reviews\n",
    "all_reviews = []\n",
    "for i in glob.glob(\"./data/aclImdb/train/pos/*.txt\"):\n",
    "    with open(i, \"r\", encoding=\"utf-8\") as f:\n",
    "        all_reviews.append(f.read())\n",
    "        \n",
    "for j in glob.glob(\"./data/aclImdb/train/neg/*.txt\"):\n",
    "    with open(j, \"r\", encoding=\"utf-8\") as f:\n",
    "        all_reviews.append(f.read())\n",
    "        \n",
    "for k in glob.glob(\"./data/aclImdb/test/pos/*.txt\"):\n",
    "    with open(k, \"r\", encoding=\"utf-8\") as f:\n",
    "        all_reviews.append(f.read())\n",
    "        \n",
    "for n in glob.glob(\"./data/aclImdb/test/neg/*.txt\"):\n",
    "    with open(n, \"r\", encoding=\"utf-8\") as f:\n",
    "        all_reviews.append(f.read())"
   ]
  },
  {
   "cell_type": "code",
   "execution_count": 3,
   "metadata": {
    "collapsed": true
   },
   "outputs": [],
   "source": [
    "# tokenize reviews each doc\n",
    "all_tokens_reviews = []\n",
    "stopword = set(stopwords.words())\n",
    "for i in all_reviews:\n",
    "    temp = nltk.tokenize.word_tokenize(i.lower(), language=\"english\")\n",
    "    remove = []\n",
    "    for j in temp:\n",
    "        if j in stopword:\n",
    "            continue\n",
    "        else:\n",
    "            remove.append(j)    \n",
    "    all_tokens_reviews.append(remove)"
   ]
  },
  {
   "cell_type": "code",
   "execution_count": 13,
   "metadata": {
    "collapsed": true
   },
   "outputs": [],
   "source": [
    "temp_1 = []\n",
    "temp_2 = []\n",
    "lemm = WordNetLemmatizer()\n",
    "for i in all_tokens_reviews:\n",
    "    temp_1 = []\n",
    "    for j in i:\n",
    "        temp_1.append(lemm.lemmatize(j))\n",
    "    temp_2.append(temp_1)"
   ]
  },
  {
   "cell_type": "code",
   "execution_count": 14,
   "metadata": {
    "collapsed": true
   },
   "outputs": [],
   "source": [
    "model = Word2Vec(temp_2)"
   ]
  },
  {
   "cell_type": "code",
   "execution_count": 15,
   "metadata": {
    "collapsed": true
   },
   "outputs": [],
   "source": [
    "model.init_sims(replace=True)"
   ]
  },
  {
   "cell_type": "code",
   "execution_count": 19,
   "metadata": {},
   "outputs": [
    {
     "data": {
      "text/plain": [
       "[('afraid', 0.5420148372650146),\n",
       " ('sad', 0.5265077352523804),\n",
       " ('ending', 0.5145390033721924),\n",
       " ('satisfied', 0.5091328620910645),\n",
       " ('unhappy', 0.49830517172813416),\n",
       " ('wanting', 0.49471014738082886),\n",
       " ('upset', 0.49410775303840637),\n",
       " ('cry', 0.49303680658340454),\n",
       " ('surprise', 0.47460564970970154),\n",
       " ('guess', 0.47351783514022827)]"
      ]
     },
     "execution_count": 19,
     "metadata": {},
     "output_type": "execute_result"
    }
   ],
   "source": [
    "model.most_similar(\"happy\")"
   ]
  },
  {
   "cell_type": "code",
   "execution_count": null,
   "metadata": {
    "collapsed": true
   },
   "outputs": [],
   "source": []
  }
 ],
 "metadata": {
  "kernelspec": {
   "display_name": "Python 3",
   "language": "python",
   "name": "python3"
  },
  "language_info": {
   "codemirror_mode": {
    "name": "ipython",
    "version": 3
   },
   "file_extension": ".py",
   "mimetype": "text/x-python",
   "name": "python",
   "nbconvert_exporter": "python",
   "pygments_lexer": "ipython3",
   "version": "3.6.3"
  }
 },
 "nbformat": 4,
 "nbformat_minor": 2
}
