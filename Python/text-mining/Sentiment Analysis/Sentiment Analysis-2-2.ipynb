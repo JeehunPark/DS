{
 "cells": [
  {
   "cell_type": "markdown",
   "metadata": {
    "collapsed": true
   },
   "source": [
    "# Sentiment Analysis-2-2\n",
    "Statistical methods - \n",
    "Naive Bayes"
   ]
  },
  {
   "cell_type": "code",
   "execution_count": 2,
   "metadata": {
    "collapsed": true
   },
   "outputs": [],
   "source": [
    "import nltk\n",
    "from nltk.corpus import sentiwordnet as swn\n",
    "from nltk.corpus import stopwords\n",
    "from nltk.stem.wordnet import WordNetLemmatizer\n",
    "import glob\n",
    "import tqdm\n",
    "import string\n",
    "import re\n",
    "import pickle\n",
    "import datetime\n",
    "from sklearn.decomposition import PCA"
   ]
  },
  {
   "cell_type": "code",
   "execution_count": 12,
   "metadata": {},
   "outputs": [
    {
     "name": "stderr",
     "output_type": "stream",
     "text": [
      "100%|███████████████████████████████████████████████████████████████████████████| 12500/12500 [00:51<00:00, 241.85it/s]\n",
      "100%|███████████████████████████████████████████████████████████████████████████| 12500/12500 [00:53<00:00, 233.37it/s]\n"
     ]
    },
    {
     "name": "stdout",
     "output_type": "stream",
     "text": [
      "done, 2017-12-28 12:34:39.442202\n"
     ]
    }
   ],
   "source": [
    "# load train reviews\n",
    "train_reviews = []\n",
    "for i in tqdm.tqdm(glob.glob(\"./data/aclImdb/train/pos/*.txt\")):\n",
    "    with open(i, \"r\", encoding=\"utf-8\") as f:\n",
    "        train_reviews.append(f.read())\n",
    "for j in tqdm.tqdm(glob.glob(\"./data/aclImdb/train/neg/*.txt\")):\n",
    "    with open(j, \"r\", encoding=\"utf-8\") as f:\n",
    "        train_reviews.append(f.read())\n",
    "\n",
    "print(\"done,\", datetime.datetime.today())"
   ]
  },
  {
   "cell_type": "code",
   "execution_count": 7,
   "metadata": {},
   "outputs": [
    {
     "name": "stderr",
     "output_type": "stream",
     "text": [
      "100%|███████████████████████████████████████████████████████████████████████████| 25000/25000 [01:00<00:00, 416.17it/s]\n"
     ]
    },
    {
     "name": "stdout",
     "output_type": "stream",
     "text": [
      "done 2017-12-28 09:16:18.646947\n"
     ]
    }
   ],
   "source": [
    "# tokenize reviews for base word\n",
    "tokens = []\n",
    "lemm = WordNetLemmatizer()\n",
    "for i in tqdm.tqdm(train_reviews):\n",
    "    temp = nltk.tokenize.word_tokenize(i.lower(), language=\"english\")\n",
    "    for j in temp:\n",
    "        tokens.append(lemm.lemmatize(j))\n",
    "\n",
    "print(\"done,\", datetime.datetime.today())"
   ]
  },
  {
   "cell_type": "code",
   "execution_count": 8,
   "metadata": {
    "collapsed": true
   },
   "outputs": [],
   "source": [
    "# remove stopwords\n",
    "word = set(tokens).difference(set(stopwords.words()))\n",
    "words = nltk.FeatList(word)"
   ]
  },
  {
   "cell_type": "code",
   "execution_count": 20,
   "metadata": {
    "collapsed": true
   },
   "outputs": [],
   "source": [
    "#words = [w.lower() for w in words if w.isalpha()]\n",
    "#tokens = [t.lower() for t in tokens if t.isalpha()]"
   ]
  },
  {
   "cell_type": "code",
   "execution_count": null,
   "metadata": {
    "collapsed": true
   },
   "outputs": [],
   "source": []
  },
  {
   "cell_type": "code",
   "execution_count": 9,
   "metadata": {},
   "outputs": [
    {
     "name": "stderr",
     "output_type": "stream",
     "text": [
      "100%|████████████████████████████████████████████████████████████████████████| 106422/106422 [2:22:24<00:00, 12.46it/s]\n"
     ]
    },
    {
     "name": "stdout",
     "output_type": "stream",
     "text": [
      "done 2017-12-28 11:39:58.895795\n"
     ]
    }
   ],
   "source": [
    "# counting base words\n",
    "base_word = {} #dictionary\n",
    "fre = [] #list\n",
    "\n",
    "for i in tqdm.tqdm(words):\n",
    "    base_word[i] = tokens.count(i)\n",
    "    #fre.append(tokens.count(i))\n",
    "    \n",
    "print(\"done,\", datetime.datetime.today())"
   ]
  },
  {
   "cell_type": "code",
   "execution_count": 6,
   "metadata": {
    "collapsed": true
   },
   "outputs": [],
   "source": [
    "# sorting base words_1(counting)\n",
    "#sorted(feature, key=lambda k : feature[k], reverse=True)\n",
    "data = sorted(base_word.items(), key=lambda t : t[1], reverse=True)"
   ]
  },
  {
   "cell_type": "code",
   "execution_count": 7,
   "metadata": {
    "collapsed": true
   },
   "outputs": [],
   "source": [
    "index_list = []\n",
    "sort_word = []\n",
    "for i in range(len(data)):\n",
    "    if data[i][0].isalpha():\n",
    "        index_list.append(i)\n",
    "        sort_word.append(data[i])"
   ]
  },
  {
   "cell_type": "code",
   "execution_count": 8,
   "metadata": {},
   "outputs": [
    {
     "data": {
      "text/plain": [
       "('heartwarming', 67)"
      ]
     },
     "execution_count": 8,
     "metadata": {},
     "output_type": "execute_result"
    }
   ],
   "source": [
    "sort_word[5000]"
   ]
  },
  {
   "cell_type": "code",
   "execution_count": 14,
   "metadata": {},
   "outputs": [
    {
     "data": {
      "text/plain": [
       "106422"
      ]
     },
     "execution_count": 14,
     "metadata": {},
     "output_type": "execute_result"
    }
   ],
   "source": [
    "len(words)"
   ]
  },
  {
   "cell_type": "code",
   "execution_count": 9,
   "metadata": {
    "collapsed": true
   },
   "outputs": [],
   "source": [
    "#extract important base word\n",
    "words = []\n",
    "for i in sort_word[:7000]:\n",
    "    words.append(i[0])"
   ]
  },
  {
   "cell_type": "code",
   "execution_count": null,
   "metadata": {
    "collapsed": true
   },
   "outputs": [],
   "source": [
    "# sorting base words_2(PCA)\n",
    "pca_word = PCA(n_components=)"
   ]
  },
  {
   "cell_type": "markdown",
   "metadata": {},
   "source": [
    "---"
   ]
  },
  {
   "cell_type": "code",
   "execution_count": 13,
   "metadata": {},
   "outputs": [
    {
     "name": "stderr",
     "output_type": "stream",
     "text": [
      "100%|███████████████████████████████████████████████████████████████████████████| 25000/25000 [01:06<00:00, 375.60it/s]\n"
     ]
    },
    {
     "name": "stdout",
     "output_type": "stream",
     "text": [
      "done, 2017-12-28 12:35:51.061789\n"
     ]
    }
   ],
   "source": [
    "# tokenize each train reviews\n",
    "train_tokens_review = []\n",
    "lemm = WordNetLemmatizer()\n",
    "for i in tqdm.tqdm(train_reviews):\n",
    "    temp_1 = nltk.tokenize.word_tokenize(i.lower(), language=\"english\")\n",
    "    temp_2 = []\n",
    "    for j in temp_1:\n",
    "        temp_2.append(lemm.lemmatize(j))\n",
    "        \n",
    "    train_tokens_review.append(temp_2)\n",
    "\n",
    "print(\"done,\", datetime.datetime.today())"
   ]
  },
  {
   "cell_type": "code",
   "execution_count": null,
   "metadata": {
    "collapsed": true
   },
   "outputs": [],
   "source": [
    "#train_tokens_review = train_tokens_review[10000:15000]"
   ]
  },
  {
   "cell_type": "code",
   "execution_count": 14,
   "metadata": {},
   "outputs": [
    {
     "name": "stderr",
     "output_type": "stream",
     "text": [
      "100%|████████████████████████████████████████████████████████████████████████████| 25000/25000 [08:21<00:00, 49.89it/s]\n"
     ]
    },
    {
     "name": "stdout",
     "output_type": "stream",
     "text": [
      "done, 2017-12-28 12:44:54.466822\n"
     ]
    }
   ],
   "source": [
    "# makeing feature sets(train)\n",
    "feature_sets = []\n",
    "feature = {}\n",
    "for i in tqdm.tqdm(range(len(train_tokens_review))):\n",
    "    feature = {}\n",
    "    for j in words:\n",
    "        feature[j] = (j in train_tokens_review[i])\n",
    "    if i < 12500:\n",
    "        feature_sets.append((feature, \"pos\"))\n",
    "    else:\n",
    "        feature_sets.append((feature, \"neg\"))\n",
    "\n",
    "print(\"done,\", datetime.datetime.today())"
   ]
  },
  {
   "cell_type": "markdown",
   "metadata": {},
   "source": [
    "---"
   ]
  },
  {
   "cell_type": "code",
   "execution_count": 15,
   "metadata": {},
   "outputs": [
    {
     "name": "stderr",
     "output_type": "stream",
     "text": [
      "100%|███████████████████████████████████████████████████████████████████████████| 12500/12500 [00:50<00:00, 246.53it/s]\n",
      "100%|███████████████████████████████████████████████████████████████████████████| 12500/12500 [00:53<00:00, 234.20it/s]\n"
     ]
    },
    {
     "name": "stdout",
     "output_type": "stream",
     "text": [
      "done, 2017-12-28 12:51:46.787094\n"
     ]
    }
   ],
   "source": [
    "# load test reviews\n",
    "test_reviews = []\n",
    "for i in tqdm.tqdm(glob.glob(\"./data/aclImdb/test/pos/*.txt\")):\n",
    "    with open(i, \"r\", encoding=\"utf-8\") as f:\n",
    "        test_reviews.append(f.read())\n",
    "for j in tqdm.tqdm(glob.glob(\"./data/aclImdb/test/neg/*.txt\")):\n",
    "    with open(j, \"r\", encoding=\"utf-8\") as f:\n",
    "        test_reviews.append(f.read())\n",
    "\n",
    "print(\"done,\", datetime.datetime.today())"
   ]
  },
  {
   "cell_type": "code",
   "execution_count": 16,
   "metadata": {},
   "outputs": [
    {
     "name": "stderr",
     "output_type": "stream",
     "text": [
      "100%|███████████████████████████████████████████████████████████████████████████| 25000/25000 [00:58<00:00, 430.84it/s]\n"
     ]
    },
    {
     "name": "stdout",
     "output_type": "stream",
     "text": [
      "done, 2017-12-28 12:52:49.381340\n"
     ]
    }
   ],
   "source": [
    "# tokenize each test reviews\n",
    "test_tokens_review = []\n",
    "lemm = WordNetLemmatizer()\n",
    "for i in tqdm.tqdm(test_reviews):\n",
    "    temp_1 = nltk.tokenize.word_tokenize(i.lower(), language=\"english\")\n",
    "    temp_2 = []\n",
    "    for j in temp_1:\n",
    "        temp_2.append(lemm.lemmatize(j))\n",
    "        \n",
    "    test_tokens_review.append(temp_2)\n",
    "\n",
    "print(\"done,\", datetime.datetime.today())"
   ]
  },
  {
   "cell_type": "code",
   "execution_count": 230,
   "metadata": {
    "collapsed": true
   },
   "outputs": [],
   "source": [
    "#test_tokens_review = test_tokens_review[12000:13000]"
   ]
  },
  {
   "cell_type": "code",
   "execution_count": 17,
   "metadata": {},
   "outputs": [
    {
     "name": "stderr",
     "output_type": "stream",
     "text": [
      "100%|████████████████████████████████████████████████████████████████████████████| 25000/25000 [08:19<00:00, 50.02it/s]\n"
     ]
    },
    {
     "name": "stdout",
     "output_type": "stream",
     "text": [
      "done, 2017-12-28 13:01:15.257449\n"
     ]
    }
   ],
   "source": [
    "# makeing feature sets(test)\n",
    "test_sets = []\n",
    "feature = {}\n",
    "for idx, review in enumerate(tqdm.tqdm(test_tokens_review)):\n",
    "    feature = {}\n",
    "    for j in words:\n",
    "        feature[j] = (j in review)\n",
    "    if idx < 12500:\n",
    "        test_sets.append((feature, \"pos\"))\n",
    "    else:\n",
    "        test_sets.append((feature, \"neg\"))\n",
    "\n",
    "print(\"done,\", datetime.datetime.today())"
   ]
  },
  {
   "cell_type": "code",
   "execution_count": 18,
   "metadata": {
    "collapsed": true
   },
   "outputs": [],
   "source": [
    "clf = nltk.NaiveBayesClassifier.train(feature_sets)"
   ]
  },
  {
   "cell_type": "code",
   "execution_count": 19,
   "metadata": {
    "collapsed": true
   },
   "outputs": [],
   "source": [
    "result = nltk.classify.accuracy(clf, test_sets)"
   ]
  },
  {
   "cell_type": "code",
   "execution_count": 20,
   "metadata": {},
   "outputs": [
    {
     "data": {
      "text/plain": [
       "0.83768"
      ]
     },
     "execution_count": 20,
     "metadata": {},
     "output_type": "execute_result"
    }
   ],
   "source": [
    "result"
   ]
  },
  {
   "cell_type": "code",
   "execution_count": 23,
   "metadata": {},
   "outputs": [
    {
     "data": {
      "text/plain": [
       "['pos', 'neg']"
      ]
     },
     "execution_count": 23,
     "metadata": {},
     "output_type": "execute_result"
    }
   ],
   "source": [
    "clf.labels()"
   ]
  },
  {
   "cell_type": "code",
   "execution_count": 17,
   "metadata": {
    "collapsed": true
   },
   "outputs": [],
   "source": [
    "# save base word set\n",
    "f = open(\"./data/base_word\", \"wb\")\n",
    "pickle.dump(base_word, f)\n",
    "f.close()"
   ]
  },
  {
   "cell_type": "code",
   "execution_count": 18,
   "metadata": {
    "collapsed": true
   },
   "outputs": [],
   "source": [
    "# save train word set\n",
    "f = open(\"./data/sort_word\", \"wb\")\n",
    "pickle.dump(sort_word, f)\n",
    "f.close()"
   ]
  },
  {
   "cell_type": "code",
   "execution_count": 5,
   "metadata": {
    "collapsed": true
   },
   "outputs": [],
   "source": [
    "# load base word set\n",
    "f = open(\"./data/base_word\", \"rb\")\n",
    "base_word = pickle.load(f)\n",
    "f.close()"
   ]
  },
  {
   "cell_type": "code",
   "execution_count": 2,
   "metadata": {
    "collapsed": true
   },
   "outputs": [],
   "source": [
    "# load train word set\n",
    "f = open(\"./data/sort_word\", \"rb\")\n",
    "sort_word = pickle.load(f)\n",
    "f.close()"
   ]
  },
  {
   "cell_type": "code",
   "execution_count": null,
   "metadata": {
    "collapsed": true
   },
   "outputs": [],
   "source": []
  }
 ],
 "metadata": {
  "kernelspec": {
   "display_name": "Python 3",
   "language": "python",
   "name": "python3"
  },
  "language_info": {
   "codemirror_mode": {
    "name": "ipython",
    "version": 3
   },
   "file_extension": ".py",
   "mimetype": "text/x-python",
   "name": "python",
   "nbconvert_exporter": "python",
   "pygments_lexer": "ipython3",
   "version": "3.6.3"
  }
 },
 "nbformat": 4,
 "nbformat_minor": 2
}
