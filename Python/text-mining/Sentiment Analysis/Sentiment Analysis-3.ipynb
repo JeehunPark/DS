{
 "cells": [
  {
   "cell_type": "markdown",
   "metadata": {},
   "source": [
    "# Sentiment Analysis 3\n",
    "Doc2Vec"
   ]
  },
  {
   "cell_type": "code",
   "execution_count": 1,
   "metadata": {},
   "outputs": [
    {
     "name": "stderr",
     "output_type": "stream",
     "text": [
      "C:\\Users\\SNB\\AppData\\Local\\Continuum\\anaconda3\\lib\\site-packages\\gensim\\utils.py:860: UserWarning: detected Windows; aliasing chunkize to chunkize_serial\n",
      "  warnings.warn(\"detected Windows; aliasing chunkize to chunkize_serial\")\n"
     ]
    }
   ],
   "source": [
    "import gensim\n",
    "from gensim.models import Doc2Vec\n",
    "import nltk\n",
    "import numpy as np\n",
    "from random import shuffle\n",
    "from sklearn.linear_model import LogisticRegression"
   ]
  },
  {
   "cell_type": "code",
   "execution_count": 2,
   "metadata": {
    "collapsed": true
   },
   "outputs": [],
   "source": [
    "from nltk.corpus import stopwords\n",
    "from nltk import word_tokenize\n",
    "from nltk.stem.wordnet import WordNetLemmatizer\n",
    "import multiprocessing\n",
    "import os"
   ]
  },
  {
   "cell_type": "code",
   "execution_count": 3,
   "metadata": {
    "collapsed": true
   },
   "outputs": [],
   "source": [
    "import tqdm\n",
    "import glob\n",
    "import datetime\n",
    "from sklearn.decomposition import PCA\n",
    "import pickle\n",
    "import matplotlib.pyplot as plt\n",
    "import pandas as pd"
   ]
  },
  {
   "cell_type": "code",
   "execution_count": 4,
   "metadata": {
    "collapsed": true
   },
   "outputs": [],
   "source": [
    "stop_words = set(stopwords.words('english'))\n",
    "lemm = WordNetLemmatizer()"
   ]
  },
  {
   "cell_type": "code",
   "execution_count": 5,
   "metadata": {
    "collapsed": true
   },
   "outputs": [],
   "source": [
    "LabeledSentence = gensim.models.doc2vec.LabeledSentence"
   ]
  },
  {
   "cell_type": "code",
   "execution_count": 6,
   "metadata": {},
   "outputs": [
    {
     "name": "stderr",
     "output_type": "stream",
     "text": [
      "100%|███████████████████████████████████████████████████████████████████████████| 12500/12500 [00:49<00:00, 254.65it/s]\n",
      "100%|███████████████████████████████████████████████████████████████████████████| 12500/12500 [00:49<00:00, 252.66it/s]\n"
     ]
    },
    {
     "name": "stdout",
     "output_type": "stream",
     "text": [
      "done, 2018-01-05 14:35:20.275448\n"
     ]
    }
   ],
   "source": [
    "# load train reviews\n",
    "train_reviews = []\n",
    "for i in tqdm.tqdm(glob.glob(\"./data/aclImdb/train/pos/*.txt\")):\n",
    "    with open(i, \"r\", encoding=\"utf-8\") as f:\n",
    "        train_reviews.append(f.read())\n",
    "for j in tqdm.tqdm(glob.glob(\"./data/aclImdb/train/neg/*.txt\")):\n",
    "    with open(j, \"r\", encoding=\"utf-8\") as f:\n",
    "        train_reviews.append(f.read())\n",
    "\n",
    "print(\"done,\", datetime.datetime.today())"
   ]
  },
  {
   "cell_type": "code",
   "execution_count": 7,
   "metadata": {},
   "outputs": [
    {
     "name": "stderr",
     "output_type": "stream",
     "text": [
      "100%|███████████████████████████████████████████████████████████████████████████| 25000/25000 [00:57<00:00, 431.37it/s]\n"
     ]
    },
    {
     "name": "stdout",
     "output_type": "stream",
     "text": [
      "done, 2018-01-05 14:36:21.054849\n"
     ]
    }
   ],
   "source": [
    "temp_1 = []\n",
    "labeledlist = []\n",
    "for i, review in enumerate(tqdm.tqdm(train_reviews)):\n",
    "    temp_1 = nltk.tokenize.word_tokenize(review.lower(), language=\"english\")\n",
    "    temp_2 = []\n",
    "    for j in temp_1:\n",
    "        if j.isalpha():\n",
    "            temp_2.append(lemm.lemmatize(j))\n",
    "    if i < 12500:\n",
    "        labeledlist.append(LabeledSentence(words=temp_2, tags=[\"pos_\"+str(i)]))\n",
    "    else:\n",
    "        labeledlist.append(LabeledSentence(words=temp_2, tags=[\"neg_\"+str(i-12500)]))\n",
    "\n",
    "print(\"done,\", datetime.datetime.today())"
   ]
  },
  {
   "cell_type": "code",
   "execution_count": 8,
   "metadata": {
    "collapsed": true
   },
   "outputs": [],
   "source": [
    "model = Doc2Vec(alpha=0.025, min_alpha=0.025)  # use fixed learning rate\n",
    "model.build_vocab(labeledlist)"
   ]
  },
  {
   "cell_type": "code",
   "execution_count": 9,
   "metadata": {},
   "outputs": [
    {
     "name": "stdout",
     "output_type": "stream",
     "text": [
      "done, 2018-01-05 14:37:58.952868\n"
     ]
    }
   ],
   "source": [
    "model.train(labeledlist, total_examples=25000, epochs=20)\n",
    "print(\"done,\", datetime.datetime.today())"
   ]
  },
  {
   "cell_type": "code",
   "execution_count": 24,
   "metadata": {},
   "outputs": [
    {
     "data": {
      "text/plain": [
       "[('decent', 0.7099470496177673),\n",
       " ('fine', 0.6225178241729736),\n",
       " ('great', 0.5937667489051819),\n",
       " ('strong', 0.5772299766540527),\n",
       " ('bad', 0.5728908181190491),\n",
       " ('solid', 0.5685356855392456),\n",
       " ('nice', 0.554256796836853),\n",
       " ('convincing', 0.5370105504989624),\n",
       " ('lousy', 0.535428524017334),\n",
       " ('terrible', 0.5344275832176208)]"
      ]
     },
     "execution_count": 24,
     "metadata": {},
     "output_type": "execute_result"
    }
   ],
   "source": [
    "model.most_similar(\"good\")"
   ]
  },
  {
   "cell_type": "code",
   "execution_count": 38,
   "metadata": {
    "collapsed": true
   },
   "outputs": [],
   "source": []
  },
  {
   "cell_type": "code",
   "execution_count": 11,
   "metadata": {
    "collapsed": true
   },
   "outputs": [],
   "source": [
    "x_train = []\n",
    "y_train = []"
   ]
  },
  {
   "cell_type": "code",
   "execution_count": 12,
   "metadata": {
    "collapsed": true
   },
   "outputs": [],
   "source": [
    "for i in range(25000):\n",
    "    if i < 12500:\n",
    "        x_train.append(model.docvecs[i])\n",
    "        y_train.append(1)\n",
    "    else:\n",
    "        x_train.append(model.docvecs[i])\n",
    "        y_train.append(0)"
   ]
  },
  {
   "cell_type": "code",
   "execution_count": 14,
   "metadata": {},
   "outputs": [
    {
     "data": {
      "text/plain": [
       "(25000, 25000)"
      ]
     },
     "execution_count": 14,
     "metadata": {},
     "output_type": "execute_result"
    }
   ],
   "source": [
    "len(x_train), len(y_train)"
   ]
  },
  {
   "cell_type": "code",
   "execution_count": 13,
   "metadata": {
    "collapsed": true
   },
   "outputs": [],
   "source": [
    "# load base word set\n",
    "f = open(\"./data/base_word\", \"rb\")\n",
    "base_word = pickle.load(f)\n",
    "f.close()"
   ]
  },
  {
   "cell_type": "code",
   "execution_count": 14,
   "metadata": {
    "collapsed": true
   },
   "outputs": [],
   "source": [
    "data = sorted(base_word.items(), key=lambda t : t[1], reverse=True)"
   ]
  },
  {
   "cell_type": "code",
   "execution_count": 15,
   "metadata": {
    "collapsed": true
   },
   "outputs": [],
   "source": [
    "sort_word = []\n",
    "for i in range(len(data)):\n",
    "    if data[i][0].isalpha():\n",
    "        sort_word.append(data[i])"
   ]
  },
  {
   "cell_type": "code",
   "execution_count": 65,
   "metadata": {
    "collapsed": true
   },
   "outputs": [],
   "source": [
    "words = []\n",
    "for i in sort_word[1:101]:\n",
    "    words.append(i[0])"
   ]
  },
  {
   "cell_type": "code",
   "execution_count": 66,
   "metadata": {
    "collapsed": true
   },
   "outputs": [],
   "source": [
    "words_vector = []\n",
    "for i in words:\n",
    "    words_vector.append(model.infer_vector(i))"
   ]
  },
  {
   "cell_type": "code",
   "execution_count": 67,
   "metadata": {
    "collapsed": true
   },
   "outputs": [],
   "source": [
    "pca = PCA(n_components=2)"
   ]
  },
  {
   "cell_type": "code",
   "execution_count": 68,
   "metadata": {
    "collapsed": true
   },
   "outputs": [],
   "source": [
    "pca_data = pca.fit_transform(words_vector)"
   ]
  },
  {
   "cell_type": "code",
   "execution_count": 69,
   "metadata": {
    "collapsed": true
   },
   "outputs": [],
   "source": [
    "data_word = pd.DataFrame(pca_data, words)"
   ]
  },
  {
   "cell_type": "code",
   "execution_count": 72,
   "metadata": {
    "scrolled": false
   },
   "outputs": [
    {
     "data": {
      "image/png": "[encoded data removed]",
      "text/plain": [
       "<matplotlib.figure.Figure at 0x1c30005a588>"
      ]
     },
     "metadata": {},
     "output_type": "display_data"
    }
   ],
   "source": [
    "plt.style.use(\"ggplot\")\n",
    "plt.figure(figsize=(18, 12))\n",
    "plt.scatter(data_word[0], data_word[1])\n",
    "plt.title(\"Word Vectors\")\n",
    "for i, label in enumerate(data_word.index.values):\n",
    "    plt.annotate(label, (data_word.values[i, 0] - 0.015, \n",
    "                         data_word.values[i, 1] + 0.015))\n",
    "plt.show()"
   ]
  },
  {
   "cell_type": "code",
   "execution_count": null,
   "metadata": {
    "collapsed": true
   },
   "outputs": [],
   "source": []
  },
  {
   "cell_type": "code",
   "execution_count": 29,
   "metadata": {},
   "outputs": [
    {
     "name": "stderr",
     "output_type": "stream",
     "text": [
      "100%|███████████████████████████████████████████████████████████████████████████| 12500/12500 [00:47<00:00, 263.68it/s]\n",
      "100%|███████████████████████████████████████████████████████████████████████████| 12500/12500 [00:54<00:00, 230.33it/s]\n"
     ]
    },
    {
     "name": "stdout",
     "output_type": "stream",
     "text": [
      "done, 2018-01-04\n"
     ]
    }
   ],
   "source": [
    "# load test reviews\n",
    "test_reviews = []\n",
    "for i in tqdm.tqdm(glob.glob(\"./data/aclImdb/test/pos/*.txt\")):\n",
    "    with open(i, \"r\", encoding=\"utf-8\") as f:\n",
    "        test_reviews.append(f.read())\n",
    "for j in tqdm.tqdm(glob.glob(\"./data/aclImdb/test/neg/*.txt\")):\n",
    "    with open(j, \"r\", encoding=\"utf-8\") as f:\n",
    "        test_reviews.append(f.read())\n",
    "\n",
    "print(\"done,\", datetime.date.today())"
   ]
  },
  {
   "cell_type": "code",
   "execution_count": 30,
   "metadata": {},
   "outputs": [
    {
     "name": "stderr",
     "output_type": "stream",
     "text": [
      "100%|███████████████████████████████████████████████████████████████████████████| 25000/25000 [01:00<00:00, 413.96it/s]\n"
     ]
    },
    {
     "name": "stdout",
     "output_type": "stream",
     "text": [
      "done, 2018-01-04 10:49:40.726373\n"
     ]
    }
   ],
   "source": [
    "# tokenize test reviews\n",
    "test_tokens_review = []\n",
    "lemm = WordNetLemmatizer()\n",
    "for review in tqdm.tqdm(test_reviews):\n",
    "    temp_1 = nltk.tokenize.word_tokenize(review.lower(), language=\"english\")\n",
    "    temp_2 = []\n",
    "    for j in temp_1:\n",
    "        if j.isalpha():\n",
    "            temp_2.append(lemm.lemmatize(j))\n",
    "        \n",
    "    test_tokens_review.append(temp_2)\n",
    "\n",
    "print(\"done,\", datetime.datetime.today())"
   ]
  },
  {
   "cell_type": "code",
   "execution_count": 88,
   "metadata": {},
   "outputs": [
    {
     "name": "stderr",
     "output_type": "stream",
     "text": [
      "100%|███████████████████████████████████████████████████████████████████████████| 25000/25000 [00:35<00:00, 706.42it/s]\n"
     ]
    },
    {
     "name": "stdout",
     "output_type": "stream",
     "text": [
      "done, 2018-01-04 16:11:10.048310\n"
     ]
    }
   ],
   "source": [
    "# infer vector using test reviews\n",
    "x_test = []\n",
    "y_test = []\n",
    "for i, review in enumerate(tqdm.tqdm(test_tokens_review)):\n",
    "    if i < 12500:\n",
    "        x_test.append(model.infer_vector(review))\n",
    "        y_test.append(1)\n",
    "    else:\n",
    "        x_test.append(model.infer_vector(review))\n",
    "        y_test.append(0)\n",
    "\n",
    "print(\"done,\", datetime.datetime.today())"
   ]
  },
  {
   "cell_type": "code",
   "execution_count": null,
   "metadata": {
    "collapsed": true
   },
   "outputs": [],
   "source": []
  },
  {
   "cell_type": "code",
   "execution_count": 89,
   "metadata": {},
   "outputs": [
    {
     "data": {
      "text/plain": [
       "LogisticRegression(C=1.0, class_weight=None, dual=False, fit_intercept=True,\n",
       "          intercept_scaling=1, max_iter=100, multi_class='ovr', n_jobs=1,\n",
       "          penalty='l2', random_state=None, solver='liblinear', tol=0.0001,\n",
       "          verbose=0, warm_start=False)"
      ]
     },
     "execution_count": 89,
     "metadata": {},
     "output_type": "execute_result"
    }
   ],
   "source": [
    "# train logisticregression\n",
    "clf = LogisticRegression()\n",
    "clf.fit(x_train, y_train)"
   ]
  },
  {
   "cell_type": "code",
   "execution_count": 90,
   "metadata": {},
   "outputs": [
    {
     "data": {
      "text/plain": [
       "0.56367999999999996"
      ]
     },
     "execution_count": 90,
     "metadata": {},
     "output_type": "execute_result"
    }
   ],
   "source": [
    "clf.score(x_test, y_test)"
   ]
  },
  {
   "cell_type": "code",
   "execution_count": 91,
   "metadata": {},
   "outputs": [
    {
     "data": {
      "text/plain": [
       "0.68623999999999996"
      ]
     },
     "execution_count": 91,
     "metadata": {},
     "output_type": "execute_result"
    }
   ],
   "source": [
    "clf.score(x_train, y_train)"
   ]
  },
  {
   "cell_type": "code",
   "execution_count": null,
   "metadata": {
    "collapsed": true
   },
   "outputs": [],
   "source": []
  }
 ],
 "metadata": {
  "kernelspec": {
   "display_name": "Python 3",
   "language": "python",
   "name": "python3"
  },
  "language_info": {
   "codemirror_mode": {
    "name": "ipython",
    "version": 3
   },
   "file_extension": ".py",
   "mimetype": "text/x-python",
   "name": "python",
   "nbconvert_exporter": "python",
   "pygments_lexer": "ipython3",
   "version": "3.6.3"
  }
 },
 "nbformat": 4,
 "nbformat_minor": 2
}
