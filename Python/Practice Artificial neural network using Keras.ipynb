{
 "cells": [
  {
   "cell_type": "markdown",
   "metadata": {},
   "source": [
    "# Practice Artificial neural network using Keras"
   ]
  },
  {
   "cell_type": "markdown",
   "metadata": {},
   "source": [
    "---"
   ]
  },
  {
   "cell_type": "markdown",
   "metadata": {},
   "source": [
    "## Data load\n",
    "Titanic"
   ]
  },
  {
   "cell_type": "code",
   "execution_count": 4,
   "metadata": {},
   "outputs": [
    {
     "data": {
      "text/html": [
       "<div>\n",
       "<style>\n",
       "    .dataframe thead tr:only-child th {\n",
       "        text-align: right;\n",
       "    }\n",
       "\n",
       "    .dataframe thead th {\n",
       "        text-align: left;\n",
       "    }\n",
       "\n",
       "    .dataframe tbody tr th {\n",
       "        vertical-align: top;\n",
       "    }\n",
       "</style>\n",
       "<table border=\"1\" class=\"dataframe\">\n",
       "  <thead>\n",
       "    <tr style=\"text-align: right;\">\n",
       "      <th></th>\n",
       "      <th>survived</th>\n",
       "      <th>pclass</th>\n",
       "      <th>sex</th>\n",
       "      <th>age</th>\n",
       "      <th>sibsp</th>\n",
       "      <th>parch</th>\n",
       "      <th>fare</th>\n",
       "      <th>embarked</th>\n",
       "      <th>class</th>\n",
       "      <th>who</th>\n",
       "      <th>adult_male</th>\n",
       "      <th>deck</th>\n",
       "      <th>embark_town</th>\n",
       "      <th>alive</th>\n",
       "      <th>alone</th>\n",
       "    </tr>\n",
       "  </thead>\n",
       "  <tbody>\n",
       "    <tr>\n",
       "      <th>0</th>\n",
       "      <td>0</td>\n",
       "      <td>3</td>\n",
       "      <td>male</td>\n",
       "      <td>22.0</td>\n",
       "      <td>1</td>\n",
       "      <td>0</td>\n",
       "      <td>7.2500</td>\n",
       "      <td>S</td>\n",
       "      <td>Third</td>\n",
       "      <td>man</td>\n",
       "      <td>True</td>\n",
       "      <td>NaN</td>\n",
       "      <td>Southampton</td>\n",
       "      <td>no</td>\n",
       "      <td>False</td>\n",
       "    </tr>\n",
       "    <tr>\n",
       "      <th>1</th>\n",
       "      <td>1</td>\n",
       "      <td>1</td>\n",
       "      <td>female</td>\n",
       "      <td>38.0</td>\n",
       "      <td>1</td>\n",
       "      <td>0</td>\n",
       "      <td>71.2833</td>\n",
       "      <td>C</td>\n",
       "      <td>First</td>\n",
       "      <td>woman</td>\n",
       "      <td>False</td>\n",
       "      <td>C</td>\n",
       "      <td>Cherbourg</td>\n",
       "      <td>yes</td>\n",
       "      <td>False</td>\n",
       "    </tr>\n",
       "    <tr>\n",
       "      <th>2</th>\n",
       "      <td>1</td>\n",
       "      <td>3</td>\n",
       "      <td>female</td>\n",
       "      <td>26.0</td>\n",
       "      <td>0</td>\n",
       "      <td>0</td>\n",
       "      <td>7.9250</td>\n",
       "      <td>S</td>\n",
       "      <td>Third</td>\n",
       "      <td>woman</td>\n",
       "      <td>False</td>\n",
       "      <td>NaN</td>\n",
       "      <td>Southampton</td>\n",
       "      <td>yes</td>\n",
       "      <td>True</td>\n",
       "    </tr>\n",
       "    <tr>\n",
       "      <th>3</th>\n",
       "      <td>1</td>\n",
       "      <td>1</td>\n",
       "      <td>female</td>\n",
       "      <td>35.0</td>\n",
       "      <td>1</td>\n",
       "      <td>0</td>\n",
       "      <td>53.1000</td>\n",
       "      <td>S</td>\n",
       "      <td>First</td>\n",
       "      <td>woman</td>\n",
       "      <td>False</td>\n",
       "      <td>C</td>\n",
       "      <td>Southampton</td>\n",
       "      <td>yes</td>\n",
       "      <td>False</td>\n",
       "    </tr>\n",
       "    <tr>\n",
       "      <th>4</th>\n",
       "      <td>0</td>\n",
       "      <td>3</td>\n",
       "      <td>male</td>\n",
       "      <td>35.0</td>\n",
       "      <td>0</td>\n",
       "      <td>0</td>\n",
       "      <td>8.0500</td>\n",
       "      <td>S</td>\n",
       "      <td>Third</td>\n",
       "      <td>man</td>\n",
       "      <td>True</td>\n",
       "      <td>NaN</td>\n",
       "      <td>Southampton</td>\n",
       "      <td>no</td>\n",
       "      <td>True</td>\n",
       "    </tr>\n",
       "  </tbody>\n",
       "</table>\n",
       "</div>"
      ],
      "text/plain": [
       "   survived  pclass     sex   age  sibsp  parch     fare embarked  class  \\\n",
       "0         0       3    male  22.0      1      0   7.2500        S  Third   \n",
       "1         1       1  female  38.0      1      0  71.2833        C  First   \n",
       "2         1       3  female  26.0      0      0   7.9250        S  Third   \n",
       "3         1       1  female  35.0      1      0  53.1000        S  First   \n",
       "4         0       3    male  35.0      0      0   8.0500        S  Third   \n",
       "\n",
       "     who  adult_male deck  embark_town alive  alone  \n",
       "0    man        True  NaN  Southampton    no  False  \n",
       "1  woman       False    C    Cherbourg   yes  False  \n",
       "2  woman       False  NaN  Southampton   yes   True  \n",
       "3  woman       False    C  Southampton   yes  False  \n",
       "4    man        True  NaN  Southampton    no   True  "
      ]
     },
     "execution_count": 4,
     "metadata": {},
     "output_type": "execute_result"
    }
   ],
   "source": [
    "import pandas as pd"
   ]
  },
  {
   "cell_type": "code",
   "execution_count": null,
   "metadata": {
    "collapsed": true
   },
   "outputs": [],
   "source": [
    "df = pd.read_csv('https://raw.githubusercontent.com/datascienceschool/docker_rpython/master/data/titanic.csv')\n",
    "df.head()"
   ]
  },
  {
   "cell_type": "markdown",
   "metadata": {},
   "source": [
    "## Encoding\n",
    "sex(One-Hot-Encoding), pclass(Label Encoding)"
   ]
  },
  {
   "cell_type": "code",
   "execution_count": 5,
   "metadata": {
    "collapsed": true
   },
   "outputs": [],
   "source": [
    "from sklearn.preprocessing import OneHotEncoder\n",
    "from sklearn.preprocessing import LabelBinarizer\n",
    "ohe = OneHotEncoder()\n",
    "lb = LabelBinarizer()"
   ]
  },
  {
   "cell_type": "code",
   "execution_count": 6,
   "metadata": {
    "collapsed": true
   },
   "outputs": [],
   "source": [
    "lb.fit(df.loc[:, \"sex\"])\n",
    "df[\"sex\"] = lb.fit_transform(df[\"sex\"])"
   ]
  },
  {
   "cell_type": "code",
   "execution_count": 8,
   "metadata": {
    "collapsed": true
   },
   "outputs": [],
   "source": [
    "import numpy as np\n",
    "dfX_1 = pd.DataFrame(OneHotEncoder().fit_transform(np.array(df[\"pclass\"])[:,np.newaxis]).toarray(), columns=[\"A_Class\", \"B_Class\", \"C_Class\"])"
   ]
  },
  {
   "cell_type": "code",
   "execution_count": 9,
   "metadata": {
    "collapsed": true
   },
   "outputs": [],
   "source": [
    "df.loc[:, \"age\"].fillna(int(df[\"age\"].mean()), inplace=True)"
   ]
  },
  {
   "cell_type": "code",
   "execution_count": 10,
   "metadata": {
    "collapsed": true
   },
   "outputs": [],
   "source": [
    "feature_name = [\"sex\", \"age\", \"fare\"]\n",
    "dfX = df[feature_name]\n",
    "dfY = df[\"survived\"]"
   ]
  },
  {
   "cell_type": "code",
   "execution_count": 11,
   "metadata": {
    "collapsed": true
   },
   "outputs": [],
   "source": [
    "dfX = pd.concat([dfX, dfX_1], axis=1)"
   ]
  },
  {
   "cell_type": "markdown",
   "metadata": {},
   "source": [
    "## Split data(train, test)"
   ]
  },
  {
   "cell_type": "code",
   "execution_count": 12,
   "metadata": {
    "collapsed": true
   },
   "outputs": [],
   "source": [
    "from sklearn.model_selection import train_test_split\n",
    "X_train, X_test, y_train, y_test = train_test_split(dfX, dfY, test_size=0.25, random_state=1)"
   ]
  },
  {
   "cell_type": "code",
   "execution_count": 13,
   "metadata": {},
   "outputs": [
    {
     "data": {
      "text/plain": [
       "(     sex    age      fare  A_Class  B_Class  C_Class\n",
       " 35     1  42.00   52.0000      1.0      0.0      0.0\n",
       " 46     1  29.00   15.5000      0.0      0.0      1.0\n",
       " 453    1  49.00   89.1042      1.0      0.0      0.0\n",
       " 291    0  19.00   91.0792      1.0      0.0      0.0\n",
       " 748    1  19.00   53.1000      1.0      0.0      0.0\n",
       " 41     0  27.00   21.0000      0.0      1.0      0.0\n",
       " 224    1  38.00   90.0000      1.0      0.0      0.0\n",
       " 340    1   2.00   26.0000      0.0      1.0      0.0\n",
       " 125    1  12.00   11.2417      0.0      0.0      1.0\n",
       " 803    1   0.42    8.5167      0.0      0.0      1.0\n",
       " 800    1  34.00   13.0000      0.0      1.0      0.0\n",
       " 108    1  38.00    7.8958      0.0      0.0      1.0\n",
       " 578    0  29.00   14.4583      0.0      0.0      1.0\n",
       " 888    0  29.00   23.4500      0.0      0.0      1.0\n",
       " 593    0  29.00    7.7500      0.0      0.0      1.0\n",
       " 550    1  17.00  110.8833      1.0      0.0      0.0\n",
       " 0      1  22.00    7.2500      0.0      0.0      1.0\n",
       " 684    1  60.00   39.0000      0.0      1.0      0.0\n",
       " 529    1  23.00   11.5000      0.0      1.0      0.0\n",
       " 244    1  30.00    7.2250      0.0      0.0      1.0\n",
       " 74     1  32.00   56.4958      0.0      0.0      1.0\n",
       " 160    1  44.00   16.1000      0.0      0.0      1.0\n",
       " 744    1  31.00    7.9250      0.0      0.0      1.0\n",
       " 66     0  29.00   10.5000      0.0      1.0      0.0\n",
       " 576    0  34.00   13.0000      0.0      1.0      0.0\n",
       " 736    0  48.00   34.3750      0.0      0.0      1.0\n",
       " 412    0  33.00   90.0000      1.0      0.0      0.0\n",
       " 761    1  41.00    7.1250      0.0      0.0      1.0\n",
       " 510    1  29.00    7.7500      0.0      0.0      1.0\n",
       " 741    1  36.00   78.8500      1.0      0.0      0.0\n",
       " ..   ...    ...       ...      ...      ...      ...\n",
       " 86     1  16.00   34.3750      0.0      0.0      1.0\n",
       " 478    1  22.00    7.5208      0.0      0.0      1.0\n",
       " 503    0  37.00    9.5875      0.0      0.0      1.0\n",
       " 753    1  23.00    7.8958      0.0      0.0      1.0\n",
       " 215    0  31.00  113.2750      1.0      0.0      0.0\n",
       " 580    0  25.00   30.0000      0.0      1.0      0.0\n",
       " 562    1  28.00   13.5000      0.0      1.0      0.0\n",
       " 398    1  23.00   10.5000      0.0      1.0      0.0\n",
       " 668    1  43.00    8.0500      0.0      0.0      1.0\n",
       " 490    1  29.00   19.9667      0.0      0.0      1.0\n",
       " 252    1  62.00   26.5500      1.0      0.0      0.0\n",
       " 468    1  29.00    7.7250      0.0      0.0      1.0\n",
       " 357    0  38.00   13.0000      0.0      1.0      0.0\n",
       " 254    0  41.00   20.2125      0.0      0.0      1.0\n",
       " 276    0  45.00    7.7500      0.0      0.0      1.0\n",
       " 178    1  30.00   13.0000      0.0      1.0      0.0\n",
       " 281    1  28.00    7.8542      0.0      0.0      1.0\n",
       " 390    1  36.00  120.0000      1.0      0.0      0.0\n",
       " 508    1  28.00   22.5250      0.0      0.0      1.0\n",
       " 749    1  31.00    7.7500      0.0      0.0      1.0\n",
       " 583    1  36.00   40.1250      1.0      0.0      0.0\n",
       " 129    1  45.00    6.9750      0.0      0.0      1.0\n",
       " 144    1  18.00   11.5000      0.0      1.0      0.0\n",
       " 847    1  35.00    7.8958      0.0      0.0      1.0\n",
       " 645    1  48.00   76.7292      1.0      0.0      0.0\n",
       " 715    1  19.00    7.6500      0.0      0.0      1.0\n",
       " 767    0  30.50    7.7500      0.0      0.0      1.0\n",
       " 72     1  21.00   73.5000      0.0      1.0      0.0\n",
       " 235    0  29.00    7.5500      0.0      0.0      1.0\n",
       " 37     1  21.00    8.0500      0.0      0.0      1.0\n",
       " \n",
       " [668 rows x 6 columns],      sex   age      fare  A_Class  B_Class  C_Class\n",
       " 862    0  48.0   25.9292      1.0      0.0      0.0\n",
       " 223    1  29.0    7.8958      0.0      0.0      1.0\n",
       " 84     0  17.0   10.5000      0.0      1.0      0.0\n",
       " 680    0  29.0    8.1375      0.0      0.0      1.0\n",
       " 535    0   7.0   26.2500      0.0      1.0      0.0\n",
       " 623    1  21.0    7.8542      0.0      0.0      1.0\n",
       " 148    1  36.5   26.0000      0.0      1.0      0.0\n",
       " 3      0  35.0   53.1000      1.0      0.0      0.0\n",
       " 34     1  28.0   82.1708      1.0      0.0      0.0\n",
       " 241    0  29.0   15.5000      0.0      0.0      1.0\n",
       " 794    1  25.0    7.8958      0.0      0.0      1.0\n",
       " 2      0  26.0    7.9250      0.0      0.0      1.0\n",
       " 6      1  54.0   51.8625      1.0      0.0      0.0\n",
       " 17     1  29.0   13.0000      0.0      1.0      0.0\n",
       " 368    0  29.0    7.7500      0.0      0.0      1.0\n",
       " 430    1  28.0   26.5500      1.0      0.0      0.0\n",
       " 819    1  10.0   27.9000      0.0      0.0      1.0\n",
       " 743    1  24.0   16.1000      0.0      0.0      1.0\n",
       " 189    1  36.0    7.8958      0.0      0.0      1.0\n",
       " 437    0  24.0   18.7500      0.0      1.0      0.0\n",
       " 382    1  32.0    7.9250      0.0      0.0      1.0\n",
       " 73     1  26.0   14.4542      0.0      0.0      1.0\n",
       " 710    0  24.0   49.5042      1.0      0.0      0.0\n",
       " 385    1  18.0   73.5000      0.0      1.0      0.0\n",
       " 111    0  14.5   14.4542      0.0      0.0      1.0\n",
       " 821    1  27.0    8.6625      0.0      0.0      1.0\n",
       " 742    0  21.0  262.3750      1.0      0.0      0.0\n",
       " 865    0  42.0   13.0000      0.0      1.0      0.0\n",
       " 619    1  26.0   10.5000      0.0      1.0      0.0\n",
       " 708    0  22.0  151.5500      1.0      0.0      0.0\n",
       " ..   ...   ...       ...      ...      ...      ...\n",
       " 875    0  15.0    7.2250      0.0      0.0      1.0\n",
       " 852    0   9.0   15.2458      0.0      0.0      1.0\n",
       " 61     0  38.0   80.0000      1.0      0.0      0.0\n",
       " 277    1  29.0    0.0000      0.0      1.0      0.0\n",
       " 427    0  19.0   26.0000      0.0      1.0      0.0\n",
       " 676    1  24.5    8.0500      0.0      0.0      1.0\n",
       " 493    1  71.0   49.5042      1.0      0.0      0.0\n",
       " 433    1  17.0    7.1250      0.0      0.0      1.0\n",
       " 571    0  53.0   51.4792      1.0      0.0      0.0\n",
       " 773    1  29.0    7.2250      0.0      0.0      1.0\n",
       " 135    1  23.0   15.0458      0.0      1.0      0.0\n",
       " 248    1  37.0   52.5542      1.0      0.0      0.0\n",
       " 345    0  24.0   13.0000      0.0      1.0      0.0\n",
       " 765    0  51.0   77.9583      1.0      0.0      0.0\n",
       " 134    1  25.0   13.0000      0.0      1.0      0.0\n",
       " 507    1  29.0   26.5500      1.0      0.0      0.0\n",
       " 104    1  37.0    7.9250      0.0      0.0      1.0\n",
       " 218    0  32.0   76.2917      1.0      0.0      0.0\n",
       " 850    1   4.0   31.2750      0.0      0.0      1.0\n",
       " 57     1  28.5    7.2292      0.0      0.0      1.0\n",
       " 731    1  11.0   18.7875      0.0      0.0      1.0\n",
       " 543    1  32.0   26.0000      0.0      1.0      0.0\n",
       " 614    1  35.0    8.0500      0.0      0.0      1.0\n",
       " 411    1  29.0    6.8583      0.0      0.0      1.0\n",
       " 307    0  17.0  108.9000      1.0      0.0      0.0\n",
       " 506    0  33.0   26.0000      0.0      1.0      0.0\n",
       " 467    1  56.0   26.5500      1.0      0.0      0.0\n",
       " 740    1  29.0   30.0000      1.0      0.0      0.0\n",
       " 354    1  29.0    7.2250      0.0      0.0      1.0\n",
       " 449    1  52.0   30.5000      1.0      0.0      0.0\n",
       " \n",
       " [223 rows x 6 columns], 35     0\n",
       " 46     0\n",
       " 453    1\n",
       " 291    1\n",
       " 748    0\n",
       " 41     0\n",
       " 224    1\n",
       " 340    1\n",
       " 125    1\n",
       " 803    1\n",
       " 800    0\n",
       " 108    0\n",
       " 578    0\n",
       " 888    0\n",
       " 593    0\n",
       " 550    1\n",
       " 0      0\n",
       " 684    0\n",
       " 529    0\n",
       " 244    0\n",
       " 74     1\n",
       " 160    0\n",
       " 744    1\n",
       " 66     1\n",
       " 576    1\n",
       " 736    0\n",
       " 412    1\n",
       " 761    0\n",
       " 510    1\n",
       " 741    0\n",
       "       ..\n",
       " 86     0\n",
       " 478    0\n",
       " 503    0\n",
       " 753    0\n",
       " 215    1\n",
       " 580    1\n",
       " 562    0\n",
       " 398    0\n",
       " 668    0\n",
       " 490    0\n",
       " 252    0\n",
       " 468    0\n",
       " 357    0\n",
       " 254    0\n",
       " 276    0\n",
       " 178    0\n",
       " 281    0\n",
       " 390    1\n",
       " 508    0\n",
       " 749    0\n",
       " 583    0\n",
       " 129    0\n",
       " 144    0\n",
       " 847    0\n",
       " 645    1\n",
       " 715    0\n",
       " 767    0\n",
       " 72     0\n",
       " 235    0\n",
       " 37     0\n",
       " Name: survived, Length: 668, dtype: int64, 862    1\n",
       " 223    0\n",
       " 84     1\n",
       " 680    0\n",
       " 535    1\n",
       " 623    0\n",
       " 148    0\n",
       " 3      1\n",
       " 34     0\n",
       " 241    1\n",
       " 794    0\n",
       " 2      1\n",
       " 6      0\n",
       " 17     1\n",
       " 368    1\n",
       " 430    1\n",
       " 819    0\n",
       " 743    0\n",
       " 189    0\n",
       " 437    1\n",
       " 382    0\n",
       " 73     0\n",
       " 710    1\n",
       " 385    0\n",
       " 111    0\n",
       " 821    1\n",
       " 742    1\n",
       " 865    1\n",
       " 619    0\n",
       " 708    1\n",
       "       ..\n",
       " 875    1\n",
       " 852    0\n",
       " 61     1\n",
       " 277    0\n",
       " 427    1\n",
       " 676    0\n",
       " 493    0\n",
       " 433    0\n",
       " 571    1\n",
       " 773    0\n",
       " 135    0\n",
       " 248    1\n",
       " 345    1\n",
       " 765    1\n",
       " 134    0\n",
       " 507    1\n",
       " 104    0\n",
       " 218    1\n",
       " 850    0\n",
       " 57     0\n",
       " 731    0\n",
       " 543    1\n",
       " 614    0\n",
       " 411    0\n",
       " 307    1\n",
       " 506    1\n",
       " 467    0\n",
       " 740    1\n",
       " 354    0\n",
       " 449    1\n",
       " Name: survived, Length: 223, dtype: int64)"
      ]
     },
     "execution_count": 13,
     "metadata": {},
     "output_type": "execute_result"
    }
   ],
   "source": [
    "X_train, X_test, y_train, y_test"
   ]
  },
  {
   "cell_type": "markdown",
   "metadata": {},
   "source": [
    "## Set Artifial neural network\n",
    "2 layers"
   ]
  },
  {
   "cell_type": "code",
   "execution_count": 17,
   "metadata": {},
   "outputs": [
    {
     "name": "stderr",
     "output_type": "stream",
     "text": [
      "Using TensorFlow backend.\n"
     ]
    }
   ],
   "source": [
    "from keras.models import Sequential\n",
    "from keras.layers.core import Dense\n",
    "from keras.optimizers import *"
   ]
  },
  {
   "cell_type": "code",
   "execution_count": 69,
   "metadata": {
    "collapsed": true
   },
   "outputs": [],
   "source": [
    "model = Sequential()"
   ]
  },
  {
   "cell_type": "code",
   "execution_count": 70,
   "metadata": {
    "collapsed": true
   },
   "outputs": [],
   "source": [
    "model.add(Dense(100, input_dim=6, activation=\"sigmoid\", kernel_initializer=\"glorot_uniform\"))\n",
    "model.add(Dense(100, activation=\"relu\", kernel_initializer=\"glorot_uniform\"))\n",
    "model.add(Dense(1, activation=\"sigmoid\", kernel_initializer=\"glorot_uniform\"))\n",
    "model.compile(optimizer=RMSprop(), loss='mse', metrics=[\"accuracy\"])"
   ]
  },
  {
   "cell_type": "code",
   "execution_count": 71,
   "metadata": {},
   "outputs": [
    {
     "data": {
      "text/plain": [
       "[<keras.layers.core.Dense at 0x22246de9780>,\n",
       " <keras.layers.core.Dense at 0x22246c0f978>,\n",
       " <keras.layers.core.Dense at 0x2224a0f9908>]"
      ]
     },
     "execution_count": 71,
     "metadata": {},
     "output_type": "execute_result"
    }
   ],
   "source": [
    "model.layers"
   ]
  },
  {
   "cell_type": "code",
   "execution_count": 72,
   "metadata": {},
   "outputs": [
    {
     "data": {
      "text/plain": [
       "array([[  1.    ,  42.    ,  52.    ,   1.    ,   0.    ,   0.    ],\n",
       "       [  1.    ,  29.    ,  15.5   ,   0.    ,   0.    ,   1.    ],\n",
       "       [  1.    ,  49.    ,  89.1042,   1.    ,   0.    ,   0.    ],\n",
       "       ..., \n",
       "       [  1.    ,  21.    ,  73.5   ,   0.    ,   1.    ,   0.    ],\n",
       "       [  0.    ,  29.    ,   7.55  ,   0.    ,   0.    ,   1.    ],\n",
       "       [  1.    ,  21.    ,   8.05  ,   0.    ,   0.    ,   1.    ]])"
      ]
     },
     "execution_count": 72,
     "metadata": {},
     "output_type": "execute_result"
    }
   ],
   "source": [
    "X_train.values"
   ]
  },
  {
   "cell_type": "code",
   "execution_count": 73,
   "metadata": {
    "scrolled": true
   },
   "outputs": [
    {
     "name": "stdout",
     "output_type": "stream",
     "text": [
      "Train on 668 samples, validate on 223 samples\n",
      "Epoch 1/100\n",
      "0s - loss: 0.2216 - acc: 0.6317 - val_loss: 0.2318 - val_acc: 0.6143\n",
      "Epoch 2/100\n",
      "0s - loss: 0.1994 - acc: 0.7021 - val_loss: 0.2257 - val_acc: 0.6323\n",
      "Epoch 3/100\n",
      "0s - loss: 0.1986 - acc: 0.7036 - val_loss: 0.2278 - val_acc: 0.6323\n",
      "Epoch 4/100\n",
      "0s - loss: 0.1971 - acc: 0.7066 - val_loss: 0.2437 - val_acc: 0.6143\n",
      "Epoch 5/100\n",
      "0s - loss: 0.2011 - acc: 0.7066 - val_loss: 0.2413 - val_acc: 0.6278\n",
      "Epoch 6/100\n",
      "0s - loss: 0.1953 - acc: 0.7126 - val_loss: 0.2367 - val_acc: 0.6143\n",
      "Epoch 7/100\n",
      "0s - loss: 0.1970 - acc: 0.7051 - val_loss: 0.2332 - val_acc: 0.6278\n",
      "Epoch 8/100\n",
      "0s - loss: 0.1938 - acc: 0.7126 - val_loss: 0.2211 - val_acc: 0.6413\n",
      "Epoch 9/100\n",
      "0s - loss: 0.1969 - acc: 0.7156 - val_loss: 0.2330 - val_acc: 0.6278\n",
      "Epoch 10/100\n",
      "0s - loss: 0.1925 - acc: 0.7126 - val_loss: 0.2265 - val_acc: 0.6278\n",
      "Epoch 11/100\n",
      "0s - loss: 0.1911 - acc: 0.7081 - val_loss: 0.2219 - val_acc: 0.6457\n",
      "Epoch 12/100\n",
      "0s - loss: 0.1927 - acc: 0.7156 - val_loss: 0.2330 - val_acc: 0.6188\n",
      "Epoch 13/100\n",
      "0s - loss: 0.1957 - acc: 0.7096 - val_loss: 0.2184 - val_acc: 0.6368\n",
      "Epoch 14/100\n",
      "0s - loss: 0.1893 - acc: 0.7186 - val_loss: 0.2273 - val_acc: 0.6413\n",
      "Epoch 15/100\n",
      "0s - loss: 0.1930 - acc: 0.7126 - val_loss: 0.2190 - val_acc: 0.6323\n",
      "Epoch 16/100\n",
      "0s - loss: 0.1886 - acc: 0.7216 - val_loss: 0.2362 - val_acc: 0.6278\n",
      "Epoch 17/100\n",
      "0s - loss: 0.1887 - acc: 0.7335 - val_loss: 0.2232 - val_acc: 0.6323\n",
      "Epoch 18/100\n",
      "0s - loss: 0.1848 - acc: 0.7201 - val_loss: 0.2243 - val_acc: 0.6368\n",
      "Epoch 19/100\n",
      "0s - loss: 0.1857 - acc: 0.7171 - val_loss: 0.2272 - val_acc: 0.6413\n",
      "Epoch 20/100\n",
      "0s - loss: 0.1862 - acc: 0.7320 - val_loss: 0.2119 - val_acc: 0.6502\n",
      "Epoch 21/100\n",
      "0s - loss: 0.1818 - acc: 0.7305 - val_loss: 0.2121 - val_acc: 0.6457\n",
      "Epoch 22/100\n",
      "0s - loss: 0.1816 - acc: 0.7350 - val_loss: 0.2259 - val_acc: 0.6413\n",
      "Epoch 23/100\n",
      "0s - loss: 0.1834 - acc: 0.7260 - val_loss: 0.2127 - val_acc: 0.6502\n",
      "Epoch 24/100\n",
      "0s - loss: 0.1841 - acc: 0.7335 - val_loss: 0.2091 - val_acc: 0.6547\n",
      "Epoch 25/100\n",
      "0s - loss: 0.1817 - acc: 0.7141 - val_loss: 0.2135 - val_acc: 0.6592\n",
      "Epoch 26/100\n",
      "0s - loss: 0.1779 - acc: 0.7305 - val_loss: 0.2036 - val_acc: 0.6861\n",
      "Epoch 27/100\n",
      "0s - loss: 0.1817 - acc: 0.7186 - val_loss: 0.2161 - val_acc: 0.6547\n",
      "Epoch 28/100\n",
      "0s - loss: 0.1737 - acc: 0.7410 - val_loss: 0.2162 - val_acc: 0.6637\n",
      "Epoch 29/100\n",
      "0s - loss: 0.1754 - acc: 0.7380 - val_loss: 0.2058 - val_acc: 0.6726\n",
      "Epoch 30/100\n",
      "0s - loss: 0.1714 - acc: 0.7455 - val_loss: 0.2019 - val_acc: 0.7175\n",
      "Epoch 31/100\n",
      "0s - loss: 0.1700 - acc: 0.7590 - val_loss: 0.2001 - val_acc: 0.7130\n",
      "Epoch 32/100\n",
      "0s - loss: 0.1752 - acc: 0.7530 - val_loss: 0.2036 - val_acc: 0.6906\n",
      "Epoch 33/100\n",
      "0s - loss: 0.1715 - acc: 0.7500 - val_loss: 0.1962 - val_acc: 0.7040\n",
      "Epoch 34/100\n",
      "0s - loss: 0.1645 - acc: 0.7575 - val_loss: 0.1955 - val_acc: 0.7130\n",
      "Epoch 35/100\n",
      "0s - loss: 0.1639 - acc: 0.7829 - val_loss: 0.2109 - val_acc: 0.6816\n",
      "Epoch 36/100\n",
      "0s - loss: 0.1670 - acc: 0.7530 - val_loss: 0.2093 - val_acc: 0.7040\n",
      "Epoch 37/100\n",
      "0s - loss: 0.1617 - acc: 0.7799 - val_loss: 0.2050 - val_acc: 0.6861\n",
      "Epoch 38/100\n",
      "0s - loss: 0.1600 - acc: 0.7740 - val_loss: 0.2097 - val_acc: 0.6906\n",
      "Epoch 39/100\n",
      "0s - loss: 0.1623 - acc: 0.7725 - val_loss: 0.1894 - val_acc: 0.7354\n",
      "Epoch 40/100\n",
      "0s - loss: 0.1622 - acc: 0.7799 - val_loss: 0.1963 - val_acc: 0.7130\n",
      "Epoch 41/100\n",
      "0s - loss: 0.1612 - acc: 0.7949 - val_loss: 0.1837 - val_acc: 0.7220\n",
      "Epoch 42/100\n",
      "0s - loss: 0.1536 - acc: 0.7979 - val_loss: 0.1996 - val_acc: 0.7130\n",
      "Epoch 43/100\n",
      "0s - loss: 0.1565 - acc: 0.7934 - val_loss: 0.1842 - val_acc: 0.7265\n",
      "Epoch 44/100\n",
      "0s - loss: 0.1501 - acc: 0.8009 - val_loss: 0.1871 - val_acc: 0.7399\n",
      "Epoch 45/100\n",
      "0s - loss: 0.1533 - acc: 0.8069 - val_loss: 0.1808 - val_acc: 0.7399\n",
      "Epoch 46/100\n",
      "0s - loss: 0.1550 - acc: 0.7829 - val_loss: 0.1820 - val_acc: 0.7354\n",
      "Epoch 47/100\n",
      "0s - loss: 0.1488 - acc: 0.7964 - val_loss: 0.1931 - val_acc: 0.7444\n",
      "Epoch 48/100\n",
      "0s - loss: 0.1565 - acc: 0.7889 - val_loss: 0.1992 - val_acc: 0.7309\n",
      "Epoch 49/100\n",
      "0s - loss: 0.1551 - acc: 0.7754 - val_loss: 0.2188 - val_acc: 0.6951\n",
      "Epoch 50/100\n",
      "0s - loss: 0.1533 - acc: 0.8069 - val_loss: 0.1754 - val_acc: 0.7354\n",
      "Epoch 51/100\n",
      "0s - loss: 0.1506 - acc: 0.8069 - val_loss: 0.1939 - val_acc: 0.7399\n",
      "Epoch 52/100\n",
      "0s - loss: 0.1451 - acc: 0.8114 - val_loss: 0.1867 - val_acc: 0.7444\n",
      "Epoch 53/100\n",
      "0s - loss: 0.1473 - acc: 0.8069 - val_loss: 0.1721 - val_acc: 0.7354\n",
      "Epoch 54/100\n",
      "0s - loss: 0.1468 - acc: 0.8024 - val_loss: 0.1812 - val_acc: 0.7623\n",
      "Epoch 55/100\n",
      "0s - loss: 0.1463 - acc: 0.8204 - val_loss: 0.1722 - val_acc: 0.7578\n",
      "Epoch 56/100\n",
      "0s - loss: 0.1450 - acc: 0.8084 - val_loss: 0.1745 - val_acc: 0.7444\n",
      "Epoch 57/100\n",
      "0s - loss: 0.1424 - acc: 0.8129 - val_loss: 0.1872 - val_acc: 0.7444\n",
      "Epoch 58/100\n",
      "0s - loss: 0.1445 - acc: 0.8069 - val_loss: 0.1687 - val_acc: 0.7668\n",
      "Epoch 59/100\n",
      "0s - loss: 0.1421 - acc: 0.7994 - val_loss: 0.1799 - val_acc: 0.7668\n",
      "Epoch 60/100\n",
      "0s - loss: 0.1410 - acc: 0.8234 - val_loss: 0.2052 - val_acc: 0.7265\n",
      "Epoch 61/100\n",
      "0s - loss: 0.1405 - acc: 0.8129 - val_loss: 0.1773 - val_acc: 0.7534\n",
      "Epoch 62/100\n",
      "0s - loss: 0.1443 - acc: 0.8009 - val_loss: 0.1708 - val_acc: 0.7444\n",
      "Epoch 63/100\n",
      "0s - loss: 0.1395 - acc: 0.8129 - val_loss: 0.1737 - val_acc: 0.7578\n",
      "Epoch 64/100\n",
      "0s - loss: 0.1414 - acc: 0.8099 - val_loss: 0.1675 - val_acc: 0.7444\n",
      "Epoch 65/100\n",
      "0s - loss: 0.1378 - acc: 0.8204 - val_loss: 0.1702 - val_acc: 0.7489\n",
      "Epoch 66/100\n",
      "0s - loss: 0.1380 - acc: 0.8159 - val_loss: 0.1644 - val_acc: 0.7937\n",
      "Epoch 67/100\n",
      "0s - loss: 0.1414 - acc: 0.7979 - val_loss: 0.1629 - val_acc: 0.7892\n",
      "Epoch 68/100\n",
      "0s - loss: 0.1411 - acc: 0.8009 - val_loss: 0.1826 - val_acc: 0.7713\n",
      "Epoch 69/100\n",
      "0s - loss: 0.1371 - acc: 0.8129 - val_loss: 0.1643 - val_acc: 0.7713\n",
      "Epoch 70/100\n",
      "0s - loss: 0.1357 - acc: 0.8084 - val_loss: 0.1646 - val_acc: 0.7803\n",
      "Epoch 71/100\n",
      "0s - loss: 0.1448 - acc: 0.8069 - val_loss: 0.1777 - val_acc: 0.7713\n",
      "Epoch 72/100\n",
      "0s - loss: 0.1332 - acc: 0.8308 - val_loss: 0.1688 - val_acc: 0.7534\n",
      "Epoch 73/100\n",
      "0s - loss: 0.1454 - acc: 0.8024 - val_loss: 0.1658 - val_acc: 0.7758\n",
      "Epoch 74/100\n",
      "0s - loss: 0.1336 - acc: 0.8159 - val_loss: 0.1677 - val_acc: 0.7578\n",
      "Epoch 75/100\n",
      "0s - loss: 0.1341 - acc: 0.8204 - val_loss: 0.1638 - val_acc: 0.7534\n",
      "Epoch 76/100\n",
      "0s - loss: 0.1375 - acc: 0.8189 - val_loss: 0.1759 - val_acc: 0.7444\n",
      "Epoch 77/100\n",
      "0s - loss: 0.1374 - acc: 0.8129 - val_loss: 0.1600 - val_acc: 0.7892\n",
      "Epoch 78/100\n",
      "0s - loss: 0.1319 - acc: 0.8293 - val_loss: 0.1626 - val_acc: 0.7534\n",
      "Epoch 79/100\n",
      "0s - loss: 0.1335 - acc: 0.8308 - val_loss: 0.1698 - val_acc: 0.7803\n",
      "Epoch 80/100\n",
      "0s - loss: 0.1328 - acc: 0.8189 - val_loss: 0.1664 - val_acc: 0.7713\n",
      "Epoch 81/100\n",
      "0s - loss: 0.1335 - acc: 0.8249 - val_loss: 0.1608 - val_acc: 0.7668\n",
      "Epoch 82/100\n",
      "0s - loss: 0.1311 - acc: 0.8129 - val_loss: 0.1767 - val_acc: 0.7668\n",
      "Epoch 83/100\n",
      "0s - loss: 0.1353 - acc: 0.8129 - val_loss: 0.1939 - val_acc: 0.7623\n",
      "Epoch 84/100\n",
      "0s - loss: 0.1375 - acc: 0.8129 - val_loss: 0.1600 - val_acc: 0.7803\n",
      "Epoch 85/100\n",
      "0s - loss: 0.1365 - acc: 0.8129 - val_loss: 0.1742 - val_acc: 0.7848\n",
      "Epoch 86/100\n",
      "0s - loss: 0.1343 - acc: 0.8263 - val_loss: 0.1675 - val_acc: 0.7713\n",
      "Epoch 87/100\n",
      "0s - loss: 0.1387 - acc: 0.8084 - val_loss: 0.1641 - val_acc: 0.7758\n",
      "Epoch 88/100\n",
      "0s - loss: 0.1343 - acc: 0.8144 - val_loss: 0.1664 - val_acc: 0.7713\n",
      "Epoch 89/100\n",
      "0s - loss: 0.1310 - acc: 0.8219 - val_loss: 0.1637 - val_acc: 0.7713\n",
      "Epoch 90/100\n",
      "0s - loss: 0.1288 - acc: 0.8263 - val_loss: 0.1616 - val_acc: 0.7758\n",
      "Epoch 91/100\n",
      "0s - loss: 0.1328 - acc: 0.8189 - val_loss: 0.1594 - val_acc: 0.7937\n",
      "Epoch 92/100\n",
      "0s - loss: 0.1287 - acc: 0.8293 - val_loss: 0.1634 - val_acc: 0.7758\n",
      "Epoch 93/100\n",
      "0s - loss: 0.1365 - acc: 0.8338 - val_loss: 0.1726 - val_acc: 0.7668\n",
      "Epoch 94/100\n",
      "0s - loss: 0.1297 - acc: 0.8219 - val_loss: 0.1683 - val_acc: 0.7623\n",
      "Epoch 95/100\n",
      "0s - loss: 0.1301 - acc: 0.8144 - val_loss: 0.1563 - val_acc: 0.7937\n",
      "Epoch 96/100\n",
      "0s - loss: 0.1321 - acc: 0.8174 - val_loss: 0.1590 - val_acc: 0.7713\n",
      "Epoch 97/100\n",
      "0s - loss: 0.1372 - acc: 0.8114 - val_loss: 0.1581 - val_acc: 0.7713\n",
      "Epoch 98/100\n",
      "0s - loss: 0.1327 - acc: 0.8234 - val_loss: 0.1651 - val_acc: 0.7758\n",
      "Epoch 99/100\n",
      "0s - loss: 0.1289 - acc: 0.8293 - val_loss: 0.1557 - val_acc: 0.7982\n",
      "Epoch 100/100\n",
      "0s - loss: 0.1375 - acc: 0.8054 - val_loss: 0.1597 - val_acc: 0.7803\n"
     ]
    }
   ],
   "source": [
    "model_result = model.fit(X_train.values, y_train.values, epochs=100, batch_size=100, \n",
    "                         validation_data=(X_test.values, y_test.values), verbose=2)"
   ]
  },
  {
   "cell_type": "markdown",
   "metadata": {},
   "source": [
    "## Result"
   ]
  },
  {
   "cell_type": "code",
   "execution_count": 74,
   "metadata": {},
   "outputs": [
    {
     "data": {
      "image/png": "[encoded data removed]",
      "text/plain": [
       "<matplotlib.figure.Figure at 0x22246cd47b8>"
      ]
     },
     "metadata": {},
     "output_type": "display_data"
    }
   ],
   "source": [
    "import matplotlib.pyplot as plt\n",
    "plt.plot(model_result.history[\"loss\"])\n",
    "plt.show()"
   ]
  },
  {
   "cell_type": "code",
   "execution_count": 75,
   "metadata": {
    "scrolled": false
   },
   "outputs": [
    {
     "data": {
      "image/png": "[encoded data removed]",
      "text/plain": [
       "<matplotlib.figure.Figure at 0x22247eef550>"
      ]
     },
     "metadata": {},
     "output_type": "display_data"
    }
   ],
   "source": [
    "plt.plot(model_result.history[\"acc\"], label=\"training\")\n",
    "plt.plot(model_result.history[\"val_acc\"], label=\"test\")\n",
    "plt.legend()\n",
    "plt.show()"
   ]
  },
  {
   "cell_type": "code",
   "execution_count": 76,
   "metadata": {},
   "outputs": [
    {
     "name": "stdout",
     "output_type": "stream",
     "text": [
      "\r",
      " 32/223 [===>..........................] - ETA: 0s"
     ]
    }
   ],
   "source": [
    "y_predict = model.predict_classes(X_test.values)"
   ]
  },
  {
   "cell_type": "code",
   "execution_count": 77,
   "metadata": {},
   "outputs": [
    {
     "name": "stdout",
     "output_type": "stream",
     "text": [
      "             precision    recall  f1-score   support\n",
      "\n",
      "          0       0.81      0.81      0.81       128\n",
      "          1       0.74      0.74      0.74        95\n",
      "\n",
      "avg / total       0.78      0.78      0.78       223\n",
      "\n"
     ]
    }
   ],
   "source": [
    "from sklearn.metrics import classification_report\n",
    "\n",
    "print(classification_report(y_test, y_predict))"
   ]
  },
  {
   "cell_type": "code",
   "execution_count": null,
   "metadata": {
    "collapsed": true
   },
   "outputs": [],
   "source": []
  }
 ],
 "metadata": {
  "kernelspec": {
   "display_name": "Python 3",
   "language": "python",
   "name": "python3"
  },
  "language_info": {
   "codemirror_mode": {
    "name": "ipython",
    "version": 3
   },
   "file_extension": ".py",
   "mimetype": "text/x-python",
   "name": "python",
   "nbconvert_exporter": "python",
   "pygments_lexer": "ipython3",
   "version": "3.6.3"
  }
 },
 "nbformat": 4,
 "nbformat_minor": 2
}
